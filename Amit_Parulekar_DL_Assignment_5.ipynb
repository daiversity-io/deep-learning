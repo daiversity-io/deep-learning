{
  "nbformat": 4,
  "nbformat_minor": 0,
  "metadata": {
    "kernelspec": {
      "display_name": "Python [Root]",
      "language": "python",
      "name": "Python [Root]"
    },
    "language_info": {
      "codemirror_mode": {
        "name": "ipython",
        "version": 2
      },
      "file_extension": ".py",
      "mimetype": "text/x-python",
      "name": "python",
      "nbconvert_exporter": "python",
      "pygments_lexer": "ipython2",
      "version": "2.7.12"
    },
    "colab": {
      "name": "Assignment5.ipynb",
      "provenance": [],
      "collapsed_sections": []
    }
  },
  "cells": [
    {
      "cell_type": "markdown",
      "metadata": {
        "id": "73Fns7usdgmx"
      },
      "source": [
        "# Problem Statement #1:\n",
        "- Build a sequential model to classify names into gender.\n",
        "- Input to the model will be a name, i.e. a sequence of characters.\n",
        "- Use one hot representation of the  characters.\n",
        "-Remove non-ascii characters, if there are any.\n"
      ]
    },
    {
      "cell_type": "code",
      "metadata": {
        "id": "tzIrRoxt4s2z"
      },
      "source": [
        "from sklearn.preprocessing import OneHotEncoder\n",
        "from keras.layers.core import Dense, Activation, Dropout\n",
        "from keras.preprocessing import sequence\n",
        "from keras.models import Sequential\n",
        "from keras.layers import Dense, Embedding\n",
        "from keras.layers import LSTM, RNN, SimpleRNN, GRU\n",
        "import pandas as pd\n",
        "import numpy as np\n",
        "from sklearn.model_selection import train_test_split\n",
        "from sklearn.metrics import plot_confusion_matrix, confusion_matrix\n",
        "import matplotlib.pyplot as plt\n",
        "import seaborn as sns"
      ],
      "execution_count": null,
      "outputs": []
    },
    {
      "cell_type": "code",
      "metadata": {
        "id": "JBwOiue34s28",
        "outputId": "d65bed53-0bfd-4e58-ab89-7df0428a9672",
        "colab": {
          "base_uri": "https://localhost:8080/"
        }
      },
      "source": [
        "input = pd.read_csv(\"name_gender.csv\", header=0,names=['name','gender','p'])\n",
        "input.drop('p', axis=1, inplace=True)\n",
        "# input = input.sample(frac=0.25, replace=False, random_state=42)\n",
        "print(input.shape)"
      ],
      "execution_count": null,
      "outputs": [
        {
          "output_type": "stream",
          "text": [
            "(95026, 2)\n"
          ],
          "name": "stdout"
        }
      ]
    },
    {
      "cell_type": "code",
      "metadata": {
        "id": "SMVmrf-y4s3E"
      },
      "source": [
        "names = input['name'].str.encode('ascii', 'ignore').str.decode('ascii') # Removing non-Ascii characters\n",
        "gender = input['gender']\n",
        "vocab = set(' '.join([str(i) for i in names]))\n",
        "vocab.add('END')\n",
        "len_vocab = len(vocab)"
      ],
      "execution_count": null,
      "outputs": []
    },
    {
      "cell_type": "code",
      "metadata": {
        "id": "pO_676BrAn2i",
        "outputId": "febea805-420c-4b67-cd21-49befa3d1214",
        "colab": {
          "base_uri": "https://localhost:8080/"
        }
      },
      "source": [
        "print('Vocab size: {}'.format(len_vocab))\n",
        "names_len = [len(name) for name in names]\n",
        "longest = max(names_len)\n",
        "print(\"Longest name size: {}\".format(longest))\n",
        "average = np.mean(names_len)\n",
        "print(\"Average name size: {}\".format(average))\n",
        "stdev = np.std(names_len)\n",
        "print(\"Stdev of name size: {}\".format(stdev))\n",
        "max_len = int(average + stdev * 3)\n",
        "print('Max name size: {}'.format(max_len))"
      ],
      "execution_count": null,
      "outputs": [
        {
          "output_type": "stream",
          "text": [
            "Vocab size: 54\n",
            "Longest name size: 15\n",
            "Average name size: 6.5340959316397615\n",
            "Stdev of name size: 1.4860708016510187\n",
            "Max name size: 10\n"
          ],
          "name": "stdout"
        }
      ]
    },
    {
      "cell_type": "code",
      "metadata": {
        "id": "l8Wbiuco4s3H",
        "outputId": "1d168ac5-b7a1-453a-b158-b94ed97a7e22",
        "colab": {
          "base_uri": "https://localhost:8080/"
        }
      },
      "source": [
        "print(vocab)\n",
        "print(\"vocab length is \",len_vocab)\n",
        "print (\"length of input is \",len(input))"
      ],
      "execution_count": null,
      "outputs": [
        {
          "output_type": "stream",
          "text": [
            "{'L', 'a', ' ', 'F', 'I', 'T', 'f', 'g', 'c', 'e', 'z', 'S', 'v', 'o', 'r', 'C', 'K', 'O', 'x', 'Q', 'b', 'R', 'u', 'W', 'p', 'B', 'H', 'M', 'V', 'Z', 's', 'm', 'q', 't', 'A', 'E', 'j', 'P', 'k', 'w', 'Y', 'D', 'N', 'J', 'U', 'X', 'END', 'h', 'i', 'd', 'G', 'n', 'y', 'l'}\n",
            "vocab length is  54\n",
            "length of input is  95026\n"
          ],
          "name": "stdout"
        }
      ]
    },
    {
      "cell_type": "code",
      "metadata": {
        "id": "tj_4lD8R4s3L"
      },
      "source": [
        "char_index = dict((c, i) for i, c in enumerate(vocab))"
      ],
      "execution_count": null,
      "outputs": []
    },
    {
      "cell_type": "code",
      "metadata": {
        "id": "qwN3gool4s3P",
        "outputId": "9a49b718-7151-40b8-87f6-815b76fbf7bc",
        "colab": {
          "base_uri": "https://localhost:8080/"
        }
      },
      "source": [
        "print(char_index)"
      ],
      "execution_count": null,
      "outputs": [
        {
          "output_type": "stream",
          "text": [
            "{'L': 0, 'a': 1, ' ': 2, 'F': 3, 'I': 4, 'T': 5, 'f': 6, 'g': 7, 'c': 8, 'e': 9, 'z': 10, 'S': 11, 'v': 12, 'o': 13, 'r': 14, 'C': 15, 'K': 16, 'O': 17, 'x': 18, 'Q': 19, 'b': 20, 'R': 21, 'u': 22, 'W': 23, 'p': 24, 'B': 25, 'H': 26, 'M': 27, 'V': 28, 'Z': 29, 's': 30, 'm': 31, 'q': 32, 't': 33, 'A': 34, 'E': 35, 'j': 36, 'P': 37, 'k': 38, 'w': 39, 'Y': 40, 'D': 41, 'N': 42, 'J': 43, 'U': 44, 'X': 45, 'END': 46, 'h': 47, 'i': 48, 'd': 49, 'G': 50, 'n': 51, 'y': 52, 'l': 53}\n"
          ],
          "name": "stdout"
        }
      ]
    },
    {
      "cell_type": "code",
      "metadata": {
        "id": "2V3hdNrt4s3d"
      },
      "source": [
        "def set_flag(i):\n",
        "    tmp = np.zeros(len_vocab);\n",
        "    tmp[i] = 1\n",
        "    return(tmp)"
      ],
      "execution_count": null,
      "outputs": []
    },
    {
      "cell_type": "code",
      "metadata": {
        "id": "PC9bOimX4s3k"
      },
      "source": [
        "#take input upto max and truncate rest\n",
        "#encode to vector space(one hot encoding)\n",
        "#padd 'END' to shorter sequences\n",
        "#also convert each index to one-hot encoding\n",
        "X = []\n",
        "y = []\n",
        "trunc_names = [str(i)[0:max_len] for i in names]\n",
        "for i in trunc_names:\n",
        "    tmp = [set_flag(char_index[j]) for j in str(i)]\n",
        "    for k in range(0,max_len - len(str(i))):\n",
        "        tmp.append(set_flag(char_index[\"END\"]))\n",
        "    X.append(tmp)\n",
        "for i in gender:\n",
        "    if i == 'M':\n",
        "        y.append([1,0])\n",
        "    else:\n",
        "        y.append([0,1])"
      ],
      "execution_count": null,
      "outputs": []
    },
    {
      "cell_type": "code",
      "metadata": {
        "id": "H3N0t2Nu4s32",
        "outputId": "a549b12c-44c2-48c3-d2a7-f2698dc53357",
        "colab": {
          "base_uri": "https://localhost:8080/"
        }
      },
      "source": [
        "X = np.array(X)\n",
        "y = np.array(y)\n",
        "\n",
        "print(X.shape)\n",
        "print(y.shape)"
      ],
      "execution_count": null,
      "outputs": [
        {
          "output_type": "stream",
          "text": [
            "(95026, 10, 54)\n",
            "(95026, 2)\n"
          ],
          "name": "stdout"
        }
      ]
    },
    {
      "cell_type": "code",
      "metadata": {
        "id": "aOBeh_P2C-J4"
      },
      "source": [
        "X_train, X_test, y_train, y_test = train_test_split(X, y, test_size=0.2, random_state=42)"
      ],
      "execution_count": null,
      "outputs": []
    },
    {
      "cell_type": "markdown",
      "metadata": {
        "id": "Z01oeHP4hifC"
      },
      "source": [
        "# Show the effect of the following on the accuracy:\n",
        "RNN cells - Simple RNN, LSTM and GRU"
      ]
    },
    {
      "cell_type": "markdown",
      "metadata": {
        "id": "HEmwThfAzfGb"
      },
      "source": [
        "1. Simple RNN."
      ]
    },
    {
      "cell_type": "code",
      "metadata": {
        "id": "SZVn84zkENIb"
      },
      "source": [
        "#build the model\n",
        "model_rnn = Sequential()\n",
        "model_rnn.add(SimpleRNN(64, return_sequences=True, input_shape=(max_len,len_vocab)))\n",
        "model_rnn.add(Dropout(0.2))\n",
        "model_rnn.add(SimpleRNN(32, return_sequences=False))\n",
        "model_rnn.add(Dropout(0.2))\n",
        "model_rnn.add(Dense(2))\n",
        "model_rnn.add(Activation('softmax'))\n",
        "model_rnn.compile(loss='categorical_crossentropy', optimizer='adam',metrics=['accuracy'])"
      ],
      "execution_count": null,
      "outputs": []
    },
    {
      "cell_type": "code",
      "metadata": {
        "id": "4d4qZEcPERDM",
        "outputId": "52296a82-4fd0-4f86-9a3f-908167ca5c04",
        "colab": {
          "base_uri": "https://localhost:8080/"
        }
      },
      "source": [
        "batch_size=2000\n",
        "model_rnn.fit(X_train, y_train,batch_size=batch_size,epochs=20)"
      ],
      "execution_count": null,
      "outputs": [
        {
          "output_type": "stream",
          "text": [
            "Epoch 1/20\n",
            "39/39 [==============================] - 3s 66ms/step - loss: 0.6206 - accuracy: 0.6645\n",
            "Epoch 2/20\n",
            "39/39 [==============================] - 3s 67ms/step - loss: 0.5090 - accuracy: 0.7557\n",
            "Epoch 3/20\n",
            "39/39 [==============================] - 3s 68ms/step - loss: 0.4840 - accuracy: 0.7723\n",
            "Epoch 4/20\n",
            "39/39 [==============================] - 3s 68ms/step - loss: 0.4676 - accuracy: 0.7851\n",
            "Epoch 5/20\n",
            "39/39 [==============================] - 3s 67ms/step - loss: 0.4606 - accuracy: 0.7897\n",
            "Epoch 6/20\n",
            "39/39 [==============================] - 3s 67ms/step - loss: 0.4457 - accuracy: 0.8002\n",
            "Epoch 7/20\n",
            "39/39 [==============================] - 3s 68ms/step - loss: 0.4360 - accuracy: 0.8032\n",
            "Epoch 8/20\n",
            "39/39 [==============================] - 3s 68ms/step - loss: 0.4257 - accuracy: 0.8112\n",
            "Epoch 9/20\n",
            "39/39 [==============================] - 3s 68ms/step - loss: 0.4175 - accuracy: 0.8131\n",
            "Epoch 10/20\n",
            "39/39 [==============================] - 3s 67ms/step - loss: 0.4070 - accuracy: 0.8195\n",
            "Epoch 11/20\n",
            "39/39 [==============================] - 3s 68ms/step - loss: 0.4214 - accuracy: 0.8081\n",
            "Epoch 12/20\n",
            "39/39 [==============================] - 3s 66ms/step - loss: 0.3958 - accuracy: 0.8250\n",
            "Epoch 13/20\n",
            "39/39 [==============================] - 3s 67ms/step - loss: 0.3863 - accuracy: 0.8305\n",
            "Epoch 14/20\n",
            "39/39 [==============================] - 3s 67ms/step - loss: 0.3859 - accuracy: 0.8300\n",
            "Epoch 15/20\n",
            "39/39 [==============================] - 3s 67ms/step - loss: 0.3797 - accuracy: 0.8339\n",
            "Epoch 16/20\n",
            "39/39 [==============================] - 3s 68ms/step - loss: 0.3789 - accuracy: 0.8346\n",
            "Epoch 17/20\n",
            "39/39 [==============================] - 3s 67ms/step - loss: 0.3712 - accuracy: 0.8375\n",
            "Epoch 18/20\n",
            "39/39 [==============================] - 3s 68ms/step - loss: 0.3687 - accuracy: 0.8386\n",
            "Epoch 19/20\n",
            "39/39 [==============================] - 3s 67ms/step - loss: 0.3615 - accuracy: 0.8430\n",
            "Epoch 20/20\n",
            "39/39 [==============================] - 3s 67ms/step - loss: 0.3599 - accuracy: 0.8440\n"
          ],
          "name": "stdout"
        },
        {
          "output_type": "execute_result",
          "data": {
            "text/plain": [
              "<tensorflow.python.keras.callbacks.History at 0x7fa6b0933b00>"
            ]
          },
          "metadata": {
            "tags": []
          },
          "execution_count": 62
        }
      ]
    },
    {
      "cell_type": "code",
      "metadata": {
        "id": "ym0rnQ4OERzk",
        "outputId": "dfc07eed-d183-45f4-c7e8-cb0d996493a5",
        "colab": {
          "base_uri": "https://localhost:8080/"
        }
      },
      "source": [
        "_, acc = model_rnn.evaluate(X_test, y_test)\n",
        "print('Test accuracy:', acc)"
      ],
      "execution_count": null,
      "outputs": [
        {
          "output_type": "stream",
          "text": [
            "594/594 [==============================] - 1s 2ms/step - loss: 0.3635 - accuracy: 0.8413\n",
            "Test accuracy: 0.8412606716156006\n"
          ],
          "name": "stdout"
        }
      ]
    },
    {
      "cell_type": "code",
      "metadata": {
        "id": "bzzcXv-5hQSL",
        "outputId": "b1d169fe-e6e3-47fe-9f6b-98eeaa681df5",
        "colab": {
          "base_uri": "https://localhost:8080/",
          "height": 357
        }
      },
      "source": [
        "preds = model_rnn.predict(X_test, batch_size)\n",
        "class_names = ['Male', 'Female']\n",
        "\n",
        "# Creates a confusion matrix\n",
        "cm = confusion_matrix([np.argmax(y) for y in y_test], [np.argmax(pred) for pred in preds]) \n",
        "# Transform to df for easier plotting\n",
        "cm_df = pd.DataFrame(cm,\n",
        "                     index = class_names, \n",
        "                     columns = class_names)\n",
        "plt.figure(figsize=(8,5))\n",
        "sns.heatmap(cm_df, annot=True, fmt='g')\n",
        "plt.title('Class-wise Accuracy')\n",
        "plt.ylabel('True label')\n",
        "plt.xlabel('Predicted label')\n",
        "plt.rcParams['font.size'] = 12\n",
        "plt.show()"
      ],
      "execution_count": null,
      "outputs": [
        {
          "output_type": "display_data",
          "data": {
            "image/png": "[encoded data removed]",
            "text/plain": [
              "<Figure size 576x360 with 2 Axes>"
            ]
          },
          "metadata": {
            "tags": [],
            "needs_background": "light"
          }
        }
      ]
    },
    {
      "cell_type": "markdown",
      "metadata": {
        "id": "zshzw2Ntzlus"
      },
      "source": [
        "2. LSTM."
      ]
    },
    {
      "cell_type": "code",
      "metadata": {
        "id": "GLlC97E94s3u"
      },
      "source": [
        "#build the model\n",
        "model_lstm = Sequential()\n",
        "model_lstm.add(LSTM(64, return_sequences=True, input_shape=(max_len,len_vocab)))\n",
        "model_lstm.add(Dropout(0.2))\n",
        "model_lstm.add(LSTM(32, return_sequences=False))\n",
        "model_lstm.add(Dropout(0.2))\n",
        "model_lstm.add(Dense(2))\n",
        "model_lstm.add(Activation('softmax'))\n",
        "model_lstm.compile(loss='categorical_crossentropy', optimizer='adam',metrics=['accuracy'])"
      ],
      "execution_count": null,
      "outputs": []
    },
    {
      "cell_type": "code",
      "metadata": {
        "id": "QR0F4oW64s35",
        "outputId": "11cd512b-ef67-4c09-b587-139794e1aae4",
        "colab": {
          "base_uri": "https://localhost:8080/"
        }
      },
      "source": [
        "batch_size=2000\n",
        "model_lstm.fit(X_train, y_train,batch_size=batch_size,epochs=20)"
      ],
      "execution_count": null,
      "outputs": [
        {
          "output_type": "stream",
          "text": [
            "Epoch 1/20\n",
            "39/39 [==============================] - 6s 158ms/step - loss: 0.6324 - accuracy: 0.6394\n",
            "Epoch 2/20\n",
            "39/39 [==============================] - 6s 164ms/step - loss: 0.5494 - accuracy: 0.7172\n",
            "Epoch 3/20\n",
            "39/39 [==============================] - 6s 165ms/step - loss: 0.5005 - accuracy: 0.7616\n",
            "Epoch 4/20\n",
            "39/39 [==============================] - 6s 165ms/step - loss: 0.4718 - accuracy: 0.7824\n",
            "Epoch 5/20\n",
            "39/39 [==============================] - 6s 165ms/step - loss: 0.4556 - accuracy: 0.7943\n",
            "Epoch 6/20\n",
            "39/39 [==============================] - 7s 167ms/step - loss: 0.4364 - accuracy: 0.8037\n",
            "Epoch 7/20\n",
            "39/39 [==============================] - 6s 165ms/step - loss: 0.4189 - accuracy: 0.8139\n",
            "Epoch 8/20\n",
            "39/39 [==============================] - 6s 166ms/step - loss: 0.4025 - accuracy: 0.8236\n",
            "Epoch 9/20\n",
            "39/39 [==============================] - 6s 166ms/step - loss: 0.3926 - accuracy: 0.8285\n",
            "Epoch 10/20\n",
            "39/39 [==============================] - 6s 165ms/step - loss: 0.3818 - accuracy: 0.8335\n",
            "Epoch 11/20\n",
            "39/39 [==============================] - 6s 166ms/step - loss: 0.3735 - accuracy: 0.8370\n",
            "Epoch 12/20\n",
            "39/39 [==============================] - 6s 164ms/step - loss: 0.3840 - accuracy: 0.8295\n",
            "Epoch 13/20\n",
            "39/39 [==============================] - 6s 166ms/step - loss: 0.3648 - accuracy: 0.8406\n",
            "Epoch 14/20\n",
            "39/39 [==============================] - 6s 166ms/step - loss: 0.3592 - accuracy: 0.8439\n",
            "Epoch 15/20\n",
            "39/39 [==============================] - 6s 166ms/step - loss: 0.3608 - accuracy: 0.8425\n",
            "Epoch 16/20\n",
            "39/39 [==============================] - 6s 166ms/step - loss: 0.3526 - accuracy: 0.8451\n",
            "Epoch 17/20\n",
            "39/39 [==============================] - 6s 165ms/step - loss: 0.3577 - accuracy: 0.8440\n",
            "Epoch 18/20\n",
            "39/39 [==============================] - 9s 224ms/step - loss: 0.3422 - accuracy: 0.8500\n",
            "Epoch 19/20\n",
            "39/39 [==============================] - 7s 178ms/step - loss: 0.3387 - accuracy: 0.8518\n",
            "Epoch 20/20\n",
            "39/39 [==============================] - 6s 165ms/step - loss: 0.3383 - accuracy: 0.8523\n"
          ],
          "name": "stdout"
        },
        {
          "output_type": "execute_result",
          "data": {
            "text/plain": [
              "<tensorflow.python.keras.callbacks.History at 0x7fa6ad84fa90>"
            ]
          },
          "metadata": {
            "tags": []
          },
          "execution_count": 66
        }
      ]
    },
    {
      "cell_type": "code",
      "metadata": {
        "id": "9UsNaYwW4s38",
        "outputId": "9a23b1cb-aa24-4204-b299-8786a5e636a6",
        "colab": {
          "base_uri": "https://localhost:8080/"
        }
      },
      "source": [
        "_, acc = model_lstm.evaluate(X_test, y_test)\n",
        "print('Test accuracy:', acc)"
      ],
      "execution_count": null,
      "outputs": [
        {
          "output_type": "stream",
          "text": [
            "594/594 [==============================] - 2s 3ms/step - loss: 0.3439 - accuracy: 0.8464\n",
            "Test accuracy: 0.8464169502258301\n"
          ],
          "name": "stdout"
        }
      ]
    },
    {
      "cell_type": "code",
      "metadata": {
        "id": "-h64w9aw4s4B",
        "outputId": "5a34f692-9c0b-448c-a8f7-133665765446",
        "colab": {
          "base_uri": "https://localhost:8080/",
          "height": 357
        }
      },
      "source": [
        "preds = model_lstm.predict(X_test, batch_size)\n",
        "class_names = ['Male', 'Female']\n",
        "\n",
        "# Creates a confusion matrix\n",
        "cm = confusion_matrix([np.argmax(y) for y in y_test], [np.argmax(pred) for pred in preds]) \n",
        "# Transform to df for easier plotting\n",
        "cm_df = pd.DataFrame(cm,\n",
        "                     index = class_names, \n",
        "                     columns = class_names)\n",
        "plt.figure(figsize=(8,5))\n",
        "sns.heatmap(cm_df, annot=True, fmt='g')\n",
        "plt.title('Class-wise Accuracy')\n",
        "plt.ylabel('True label')\n",
        "plt.xlabel('Predicted label')\n",
        "plt.rcParams['font.size'] = 12\n",
        "plt.show()"
      ],
      "execution_count": null,
      "outputs": [
        {
          "output_type": "display_data",
          "data": {
            "image/png": "[encoded data removed]",
            "text/plain": [
              "<Figure size 576x360 with 2 Axes>"
            ]
          },
          "metadata": {
            "tags": [],
            "needs_background": "light"
          }
        }
      ]
    },
    {
      "cell_type": "markdown",
      "metadata": {
        "id": "y95SOsCQzpR6"
      },
      "source": [
        "3. GRU."
      ]
    },
    {
      "cell_type": "code",
      "metadata": {
        "id": "88GB3zrIESce"
      },
      "source": [
        "#build the model\n",
        "model_gru = Sequential()\n",
        "model_gru.add(GRU(64, return_sequences=True, input_shape=(max_len,len_vocab)))\n",
        "model_gru.add(Dropout(0.2))\n",
        "model_gru.add(GRU(32, return_sequences=False))\n",
        "model_gru.add(Dropout(0.2))\n",
        "model_gru.add(Dense(2))\n",
        "model_gru.add(Activation('softmax'))\n",
        "model_gru.compile(loss='categorical_crossentropy', optimizer='adam',metrics=['accuracy'])"
      ],
      "execution_count": null,
      "outputs": []
    },
    {
      "cell_type": "code",
      "metadata": {
        "id": "EV145bqSET_L",
        "outputId": "bdb4b383-0c2c-48f3-cd78-2c7b316f4968",
        "colab": {
          "base_uri": "https://localhost:8080/"
        }
      },
      "source": [
        "batch_size=2000\n",
        "model_gru.fit(X_train, y_train,batch_size=batch_size,epochs=20)"
      ],
      "execution_count": null,
      "outputs": [
        {
          "output_type": "stream",
          "text": [
            "Epoch 1/20\n",
            "39/39 [==============================] - 6s 145ms/step - loss: 0.6421 - accuracy: 0.6188\n",
            "Epoch 2/20\n",
            "39/39 [==============================] - 6s 144ms/step - loss: 0.5246 - accuracy: 0.7398\n",
            "Epoch 3/20\n",
            "39/39 [==============================] - 6s 145ms/step - loss: 0.4599 - accuracy: 0.7886\n",
            "Epoch 4/20\n",
            "39/39 [==============================] - 6s 146ms/step - loss: 0.4300 - accuracy: 0.8057\n",
            "Epoch 5/20\n",
            "39/39 [==============================] - 6s 144ms/step - loss: 0.4006 - accuracy: 0.8246\n",
            "Epoch 6/20\n",
            "39/39 [==============================] - 6s 142ms/step - loss: 0.3848 - accuracy: 0.8317\n",
            "Epoch 7/20\n",
            "39/39 [==============================] - 6s 144ms/step - loss: 0.3807 - accuracy: 0.8338\n",
            "Epoch 8/20\n",
            "39/39 [==============================] - 5s 141ms/step - loss: 0.3712 - accuracy: 0.8393\n",
            "Epoch 9/20\n",
            "39/39 [==============================] - 6s 142ms/step - loss: 0.3654 - accuracy: 0.8410\n",
            "Epoch 10/20\n",
            "39/39 [==============================] - 5s 140ms/step - loss: 0.3651 - accuracy: 0.8414\n",
            "Epoch 11/20\n",
            "39/39 [==============================] - 6s 142ms/step - loss: 0.3584 - accuracy: 0.8441\n",
            "Epoch 12/20\n",
            "39/39 [==============================] - 5s 140ms/step - loss: 0.3536 - accuracy: 0.8471\n",
            "Epoch 13/20\n",
            "39/39 [==============================] - 6s 143ms/step - loss: 0.3528 - accuracy: 0.8459\n",
            "Epoch 14/20\n",
            "39/39 [==============================] - 6s 141ms/step - loss: 0.3505 - accuracy: 0.8476\n",
            "Epoch 15/20\n",
            "39/39 [==============================] - 6s 141ms/step - loss: 0.3448 - accuracy: 0.8502\n",
            "Epoch 16/20\n",
            "39/39 [==============================] - 6s 143ms/step - loss: 0.3473 - accuracy: 0.8491\n",
            "Epoch 17/20\n",
            "39/39 [==============================] - 6s 142ms/step - loss: 0.3392 - accuracy: 0.8539\n",
            "Epoch 18/20\n",
            "39/39 [==============================] - 6s 142ms/step - loss: 0.3367 - accuracy: 0.8549\n",
            "Epoch 19/20\n",
            "39/39 [==============================] - 6s 144ms/step - loss: 0.3324 - accuracy: 0.8567\n",
            "Epoch 20/20\n",
            "39/39 [==============================] - 6s 142ms/step - loss: 0.3320 - accuracy: 0.8565\n"
          ],
          "name": "stdout"
        },
        {
          "output_type": "execute_result",
          "data": {
            "text/plain": [
              "<tensorflow.python.keras.callbacks.History at 0x7fa6a6aada58>"
            ]
          },
          "metadata": {
            "tags": []
          },
          "execution_count": 70
        }
      ]
    },
    {
      "cell_type": "code",
      "metadata": {
        "id": "OApcZH1mEU7V",
        "outputId": "75474b3e-6f4c-4a8f-d51a-d5584a72c0c0",
        "colab": {
          "base_uri": "https://localhost:8080/"
        }
      },
      "source": [
        "_, acc = model_gru.evaluate(X_test, y_test)\n",
        "print('Test accuracy:', acc)"
      ],
      "execution_count": null,
      "outputs": [
        {
          "output_type": "stream",
          "text": [
            "594/594 [==============================] - 2s 3ms/step - loss: 0.3318 - accuracy: 0.8554\n",
            "Test accuracy: 0.855414092540741\n"
          ],
          "name": "stdout"
        }
      ]
    },
    {
      "cell_type": "code",
      "metadata": {
        "id": "AYdoglMkfER2",
        "outputId": "f39cfcd2-2f8f-452b-f3ce-451f5bfc0149",
        "colab": {
          "base_uri": "https://localhost:8080/",
          "height": 357
        }
      },
      "source": [
        "preds = model_gru.predict(X_test, batch_size)\n",
        "class_names = ['Male', 'Female']\n",
        "\n",
        "# Creates a confusion matrix\n",
        "cm = confusion_matrix([np.argmax(y) for y in y_test], [np.argmax(pred) for pred in preds]) \n",
        "# Transform to df for easier plotting\n",
        "cm_df = pd.DataFrame(cm,\n",
        "                     index = class_names, \n",
        "                     columns = class_names)\n",
        "plt.figure(figsize=(8,5))\n",
        "sns.heatmap(cm_df, annot=True, fmt='g')\n",
        "plt.title('Class-wise Accuracy')\n",
        "plt.ylabel('True label')\n",
        "plt.xlabel('Predicted label')\n",
        "plt.rcParams['font.size'] = 12\n",
        "plt.show()"
      ],
      "execution_count": null,
      "outputs": [
        {
          "output_type": "display_data",
          "data": {
            "image/png": "[encoded data removed]",
            "text/plain": [
              "<Figure size 576x360 with 2 Axes>"
            ]
          },
          "metadata": {
            "tags": [],
            "needs_background": "light"
          }
        }
      ]
    },
    {
      "cell_type": "markdown",
      "metadata": {
        "id": "j_JEyt9AhsM5"
      },
      "source": [
        "# 2. Dataset size (Randomly select 25%, 50%, 75% and 100% of the data)."
      ]
    },
    {
      "cell_type": "markdown",
      "metadata": {
        "id": "DZ6ysUbukT7I"
      },
      "source": [
        "I will use the GRU model for all portions as it showed best accuracy on step 1."
      ]
    },
    {
      "cell_type": "code",
      "metadata": {
        "id": "CUNn07yHhyAc",
        "outputId": "002425de-60f3-4283-c6ad-3637e7063114",
        "colab": {
          "base_uri": "https://localhost:8080/",
          "height": 1000
        }
      },
      "source": [
        "print(f'Original X shape: {X.shape}, original y shape: {y.shape}')\n",
        "class_names = ['Male', 'Female']\n",
        "for i in range(1, 5):\n",
        "    size = round(i*0.25*X.shape[0])\n",
        "    new_X, new_y = X[:size], y[:size]\n",
        "    print(f'New X shape: {new_X.shape}, New y shape: {new_y.shape}')\n",
        "    X_train, X_test, y_train, y_test = train_test_split(new_X, new_y, test_size=0.2, random_state=42)\n",
        "    #build the model\n",
        "    model_gru = Sequential()\n",
        "    model_gru.add(GRU(64, return_sequences=True, input_shape=(max_len,len_vocab)))\n",
        "    model_gru.add(Dropout(0.2))\n",
        "    model_gru.add(GRU(32, return_sequences=False))\n",
        "    model_gru.add(Dropout(0.2))\n",
        "    model_gru.add(Dense(2))\n",
        "    model_gru.add(Activation('softmax'))\n",
        "    model_gru.compile(loss='categorical_crossentropy', optimizer='adam',metrics=['accuracy'])\n",
        "    batch_size=2000\n",
        "    model_gru.fit(X_train, y_train,batch_size=batch_size,epochs=20, verbose=0)\n",
        "    _, acc = model_gru.evaluate(X_test, y_test)\n",
        "    print(f'Test accuracy for {i*25}% of the data:{acc*100:.3f}%')\n",
        "    preds = model_gru.predict(X_test, batch_size, verbose=0)\n",
        "    cm = confusion_matrix([np.argmax(y) for y in y_test], [np.argmax(pred) for pred in preds]) \n",
        "    cm_df = pd.DataFrame(cm,\n",
        "                        index = class_names, \n",
        "                        columns = class_names)\n",
        "    plt.figure(figsize=(8,5))\n",
        "    sns.heatmap(cm_df, annot=True, fmt='g')\n",
        "    plt.title('Class-wise Accuracy')\n",
        "    plt.ylabel('True label')\n",
        "    plt.xlabel('Predicted label')\n",
        "    plt.rcParams['font.size'] = 12\n",
        "    plt.show()"
      ],
      "execution_count": null,
      "outputs": [
        {
          "output_type": "stream",
          "text": [
            "Original X shape: (95026, 10, 54), original y shape: (95026, 2)\n",
            "New X shape: (23756, 10, 54), New y shape: (23756, 2)\n",
            "149/149 [==============================] - 0s 3ms/step - loss: 0.3523 - accuracy: 0.8487\n",
            "Test accuracy for 25% of the data:84.870%\n"
          ],
          "name": "stdout"
        },
        {
          "output_type": "display_data",
          "data": {
            "image/png": "[encoded data removed]",
            "text/plain": [
              "<Figure size 576x360 with 2 Axes>"
            ]
          },
          "metadata": {
            "tags": [],
            "needs_background": "light"
          }
        },
        {
          "output_type": "stream",
          "text": [
            "New X shape: (47513, 10, 54), New y shape: (47513, 2)\n",
            "297/297 [==============================] - 1s 3ms/step - loss: 0.3784 - accuracy: 0.8328\n",
            "Test accuracy for 50% of the data:83.279%\n"
          ],
          "name": "stdout"
        },
        {
          "output_type": "display_data",
          "data": {
            "image/png": "[encoded data removed]",
            "text/plain": [
              "<Figure size 576x360 with 2 Axes>"
            ]
          },
          "metadata": {
            "tags": [],
            "needs_background": "light"
          }
        },
        {
          "output_type": "stream",
          "text": [
            "New X shape: (71270, 10, 54), New y shape: (71270, 2)\n",
            "446/446 [==============================] - 1s 3ms/step - loss: 0.3182 - accuracy: 0.8624\n",
            "Test accuracy for 75% of the data:86.235%\n"
          ],
          "name": "stdout"
        },
        {
          "output_type": "display_data",
          "data": {
            "image/png": "[encoded data removed]",
            "text/plain": [
              "<Figure size 576x360 with 2 Axes>"
            ]
          },
          "metadata": {
            "tags": [],
            "needs_background": "light"
          }
        },
        {
          "output_type": "stream",
          "text": [
            "New X shape: (95026, 10, 54), New y shape: (95026, 2)\n",
            "594/594 [==============================] - 2s 3ms/step - loss: 0.3593 - accuracy: 0.8407\n",
            "Test accuracy for 100% of the data:84.068%\n"
          ],
          "name": "stdout"
        },
        {
          "output_type": "display_data",
          "data": {
            "image/png": "[encoded data removed]",
            "text/plain": [
              "<Figure size 576x360 with 2 Axes>"
            ]
          },
          "metadata": {
            "tags": [],
            "needs_background": "light"
          }
        }
      ]
    },
    {
      "cell_type": "markdown",
      "metadata": {
        "id": "Z227bB2erVys"
      },
      "source": [
        "# Problem Statment #2\n",
        "- Train a language model using these names. \n",
        "- Generate 20 male names and 20 female names."
      ]
    },
    {
      "cell_type": "code",
      "metadata": {
        "id": "Ax56hwv4rZwb"
      },
      "source": [
        "data = '\\n'.join(input.name.str.lower().values)\n",
        "chars = list(set('\\n'.join(data)))\n",
        "data_size, vocab_size = len(data), len(chars)"
      ],
      "execution_count": null,
      "outputs": []
    },
    {
      "cell_type": "code",
      "metadata": {
        "id": "d_cfIwxTrkJL",
        "outputId": "d693ee1a-46a8-4889-ab5a-3cf5c0297552",
        "colab": {
          "base_uri": "https://localhost:8080/",
          "height": 35
        }
      },
      "source": [
        "data[:100]"
      ],
      "execution_count": null,
      "outputs": [
        {
          "output_type": "execute_result",
          "data": {
            "application/vnd.google.colaboratory.intrinsic+json": {
              "type": "string"
            },
            "text/plain": [
              "'aaban\\naabha\\naabid\\naabriella\\naada\\naadam\\naadan\\naadarsh\\naaden\\naadesh\\naadhav\\naadhavan\\naadhi\\naadhira\\naadh'"
            ]
          },
          "metadata": {
            "tags": []
          },
          "execution_count": 46
        }
      ]
    },
    {
      "cell_type": "code",
      "metadata": {
        "id": "3ugtePxkr28Q",
        "outputId": "a82670af-861f-493e-ddd8-c6377e84e408",
        "colab": {
          "base_uri": "https://localhost:8080/"
        }
      },
      "source": [
        "input_names = input.name.values\n",
        "# Build translation dictionaries, 'a' -> 0, 0 -> 'a'\n",
        "char2idx = dict((c, i) for i, c in enumerate(chars))\n",
        "idx2char = dict((i, c) for i, c in enumerate(chars))\n",
        "\n",
        "# Use longest name length as our sequence window\n",
        "max_sequence_length = max([len(name) for name in input_names])\n",
        "\n",
        "print(f'Total chars: {vocab_size}')\n",
        "print('Corpus length:', len(data))\n",
        "print('Number of names: ', len(input_names))\n",
        "print('Longest name: ', max_sequence_length)"
      ],
      "execution_count": null,
      "outputs": [
        {
          "output_type": "stream",
          "text": [
            "Total chars: 27\n",
            "Corpus length: 715934\n",
            "Number of names:  95026\n",
            "Longest name:  15\n"
          ],
          "name": "stdout"
        }
      ]
    },
    {
      "cell_type": "code",
      "metadata": {
        "id": "4l7RPKRur41x",
        "outputId": "ec32f57d-f704-4d29-9dc1-6833f86aac3a",
        "colab": {
          "base_uri": "https://localhost:8080/"
        }
      },
      "source": [
        "sequences = []\n",
        "next_chars = []\n",
        "step_length = 1\n",
        "# Loop over our data and extract pairs of sequances and next chars\n",
        "for i in range(0, len(data) - max_sequence_length, step_length):\n",
        "    sequences.append(data[i: i + max_sequence_length])\n",
        "    next_chars.append(data[i + max_sequence_length])\n",
        "\n",
        "num_sequences = len(sequences)\n",
        "\n",
        "print(f'Number of sequences: {num_sequences}')\n",
        "print('First 10 sequences and next chars:')\n",
        "for i in range(10):\n",
        "    print('X=[{}]   y=[{}]'.replace('\\n', ' ').format(sequences[i], next_chars[i]).replace('\\n', ' '))"
      ],
      "execution_count": null,
      "outputs": [
        {
          "output_type": "stream",
          "text": [
            "Number of sequences: 715919\n",
            "First 10 sequences and next chars:\n",
            "X=[aaban aabha aab]   y=[i]\n",
            "X=[aban aabha aabi]   y=[d]\n",
            "X=[ban aabha aabid]   y=[ ]\n",
            "X=[an aabha aabid ]   y=[a]\n",
            "X=[n aabha aabid a]   y=[a]\n",
            "X=[ aabha aabid aa]   y=[b]\n",
            "X=[aabha aabid aab]   y=[r]\n",
            "X=[abha aabid aabr]   y=[i]\n",
            "X=[bha aabid aabri]   y=[e]\n",
            "X=[ha aabid aabrie]   y=[l]\n"
          ],
          "name": "stdout"
        }
      ]
    },
    {
      "cell_type": "code",
      "metadata": {
        "id": "jleJVl5UsE4w",
        "outputId": "69a329bf-5812-4eee-d643-ec12dcb41580",
        "colab": {
          "base_uri": "https://localhost:8080/"
        }
      },
      "source": [
        "X = np.zeros((num_sequences, max_sequence_length, vocab_size), dtype=np.bool)\n",
        "Y = np.zeros((num_sequences, vocab_size), dtype=np.bool)\n",
        "\n",
        "for i, sequence in enumerate(sequences):\n",
        "    for j, char in enumerate(sequence):\n",
        "        X[i, j, char2idx[char]] = 1\n",
        "    Y[i, char2idx[next_chars[i]]] = 1\n",
        "    \n",
        "print(f'X shape: {X.shape}')\n",
        "print(f'Y shape: {Y.shape}')"
      ],
      "execution_count": null,
      "outputs": [
        {
          "output_type": "stream",
          "text": [
            "X shape: (715919, 15, 27)\n",
            "Y shape: (715919, 27)\n"
          ],
          "name": "stdout"
        }
      ]
    },
    {
      "cell_type": "code",
      "metadata": {
        "id": "Ieg4ibI0sxBE",
        "outputId": "bc6f382b-04e4-447b-9ee3-6125f2678b74",
        "colab": {
          "base_uri": "https://localhost:8080/"
        }
      },
      "source": [
        "from keras.optimizers import RMSprop\n",
        "model = Sequential()\n",
        "model.add(LSTM(64, input_shape=(max_sequence_length, vocab_size), recurrent_dropout=0.2))\n",
        "model.add(Dense(units=vocab_size, activation='softmax'))\n",
        "\n",
        "optimizer = RMSprop(lr=0.01)\n",
        "model.compile(loss='categorical_crossentropy',\n",
        "              optimizer=optimizer)\n",
        "\n",
        "model.summary()"
      ],
      "execution_count": null,
      "outputs": [
        {
          "output_type": "stream",
          "text": [
            "Model: \"sequential_20\"\n",
            "_________________________________________________________________\n",
            "Layer (type)                 Output Shape              Param #   \n",
            "=================================================================\n",
            "lstm_7 (LSTM)                (None, 64)                23552     \n",
            "_________________________________________________________________\n",
            "dense_20 (Dense)             (None, 27)                1755      \n",
            "=================================================================\n",
            "Total params: 25,307\n",
            "Trainable params: 25,307\n",
            "Non-trainable params: 0\n",
            "_________________________________________________________________\n"
          ],
          "name": "stdout"
        }
      ]
    },
    {
      "cell_type": "code",
      "metadata": {
        "id": "WunqWH8Msz0A",
        "outputId": "7d429a78-62c2-480e-ae4e-ea1a113a0907",
        "colab": {
          "base_uri": "https://localhost:8080/"
        }
      },
      "source": [
        "%%time\n",
        "history = model.fit(X, Y, epochs=50, batch_size=1024, verbose=1)"
      ],
      "execution_count": null,
      "outputs": [
        {
          "output_type": "stream",
          "text": [
            "Epoch 1/50\n",
            "700/700 [==============================] - 86s 123ms/step - loss: 1.4927\n",
            "Epoch 2/50\n",
            "700/700 [==============================] - 84s 120ms/step - loss: 1.0014\n",
            "Epoch 3/50\n",
            "700/700 [==============================] - 83s 119ms/step - loss: 0.9282\n",
            "Epoch 4/50\n",
            "700/700 [==============================] - 83s 118ms/step - loss: 0.8916\n",
            "Epoch 5/50\n",
            "700/700 [==============================] - 83s 118ms/step - loss: 0.8684\n",
            "Epoch 6/50\n",
            "700/700 [==============================] - 83s 118ms/step - loss: 0.8544\n",
            "Epoch 7/50\n",
            "700/700 [==============================] - 83s 119ms/step - loss: 0.8433\n",
            "Epoch 8/50\n",
            "700/700 [==============================] - 84s 119ms/step - loss: 0.8351\n",
            "Epoch 9/50\n",
            "700/700 [==============================] - 84s 119ms/step - loss: 0.8293\n",
            "Epoch 10/50\n",
            "700/700 [==============================] - 83s 119ms/step - loss: 0.8245\n",
            "Epoch 11/50\n",
            "700/700 [==============================] - 83s 118ms/step - loss: 0.8211\n",
            "Epoch 12/50\n",
            "700/700 [==============================] - 83s 118ms/step - loss: 0.8158\n",
            "Epoch 13/50\n",
            "700/700 [==============================] - 83s 118ms/step - loss: 0.8125\n",
            "Epoch 14/50\n",
            "700/700 [==============================] - 86s 123ms/step - loss: 0.8101\n",
            "Epoch 15/50\n",
            "700/700 [==============================] - 85s 121ms/step - loss: 0.8082\n",
            "Epoch 16/50\n",
            "700/700 [==============================] - 84s 120ms/step - loss: 0.8060\n",
            "Epoch 17/50\n",
            "700/700 [==============================] - 83s 118ms/step - loss: 0.8038\n",
            "Epoch 18/50\n",
            "700/700 [==============================] - 83s 118ms/step - loss: 0.8019\n",
            "Epoch 19/50\n",
            "700/700 [==============================] - 83s 118ms/step - loss: 0.8004\n",
            "Epoch 20/50\n",
            "700/700 [==============================] - 83s 119ms/step - loss: 0.7982\n",
            "Epoch 21/50\n",
            "700/700 [==============================] - 84s 120ms/step - loss: 0.7971\n",
            "Epoch 22/50\n",
            "700/700 [==============================] - 84s 120ms/step - loss: 0.7957\n",
            "Epoch 23/50\n",
            "700/700 [==============================] - 84s 120ms/step - loss: 0.7943\n",
            "Epoch 24/50\n",
            "700/700 [==============================] - 83s 118ms/step - loss: 0.7932\n",
            "Epoch 25/50\n",
            "700/700 [==============================] - 83s 118ms/step - loss: 0.7923\n",
            "Epoch 26/50\n",
            "700/700 [==============================] - 83s 118ms/step - loss: 0.7914\n",
            "Epoch 27/50\n",
            "700/700 [==============================] - 86s 123ms/step - loss: 0.7897\n",
            "Epoch 28/50\n",
            "700/700 [==============================] - 86s 123ms/step - loss: 0.7892\n",
            "Epoch 29/50\n",
            "700/700 [==============================] - 85s 121ms/step - loss: 0.7877\n",
            "Epoch 30/50\n",
            "700/700 [==============================] - 83s 118ms/step - loss: 0.7871\n",
            "Epoch 31/50\n",
            "700/700 [==============================] - 83s 118ms/step - loss: 0.7862\n",
            "Epoch 32/50\n",
            "700/700 [==============================] - 83s 118ms/step - loss: 0.7856\n",
            "Epoch 33/50\n",
            "700/700 [==============================] - 83s 119ms/step - loss: 0.7849\n",
            "Epoch 34/50\n",
            "700/700 [==============================] - 85s 121ms/step - loss: 0.7836\n",
            "Epoch 35/50\n",
            "700/700 [==============================] - 84s 119ms/step - loss: 0.7834\n",
            "Epoch 36/50\n",
            "700/700 [==============================] - 83s 119ms/step - loss: 0.7821\n",
            "Epoch 37/50\n",
            "700/700 [==============================] - 83s 119ms/step - loss: 0.7818\n",
            "Epoch 38/50\n",
            "700/700 [==============================] - 83s 118ms/step - loss: 0.7802\n",
            "Epoch 39/50\n",
            "700/700 [==============================] - 83s 119ms/step - loss: 0.7803\n",
            "Epoch 40/50\n",
            "700/700 [==============================] - 83s 119ms/step - loss: 0.7796\n",
            "Epoch 41/50\n",
            "700/700 [==============================] - 83s 119ms/step - loss: 0.7797\n",
            "Epoch 42/50\n",
            "700/700 [==============================] - 87s 124ms/step - loss: 0.7785\n",
            "Epoch 43/50\n",
            "700/700 [==============================] - 84s 120ms/step - loss: 0.7783\n",
            "Epoch 44/50\n",
            "700/700 [==============================] - 84s 120ms/step - loss: 0.7777\n",
            "Epoch 45/50\n",
            "700/700 [==============================] - 84s 120ms/step - loss: 0.7773\n",
            "Epoch 46/50\n",
            "700/700 [==============================] - 83s 118ms/step - loss: 0.7768\n",
            "Epoch 47/50\n",
            "700/700 [==============================] - 83s 119ms/step - loss: 0.7756\n",
            "Epoch 48/50\n",
            "700/700 [==============================] - 83s 118ms/step - loss: 0.7755\n",
            "Epoch 49/50\n",
            "700/700 [==============================] - 86s 123ms/step - loss: 0.7752\n",
            "Epoch 50/50\n",
            "700/700 [==============================] - 84s 120ms/step - loss: 0.7745\n",
            "CPU times: user 1h 55min 39s, sys: 9min 35s, total: 2h 5min 14s\n",
            "Wall time: 1h 9min 53s\n"
          ],
          "name": "stdout"
        }
      ]
    },
    {
      "cell_type": "code",
      "metadata": {
        "id": "Qaw6rFtDsypG",
        "outputId": "2eff2313-a0f8-400c-a6d9-3c05202ea5f1",
        "colab": {
          "base_uri": "https://localhost:8080/"
        }
      },
      "source": [
        "gen_amount = 40\n",
        "# Start sequence generation from end of the input sequence\n",
        "sequence = data[-(max_sequence_length - 1):] + '\\n'\n",
        "\n",
        "male_names = []\n",
        "female_names = []\n",
        "\n",
        "print(f'{gen_amount} new names are being generated.')\n",
        "\n",
        "while len(male_names) < 20 or len(female_names) < 20:\n",
        "    \n",
        "    # Vectorize sequence for prediction\n",
        "    x = np.zeros((1, max_sequence_length, vocab_size))\n",
        "    for i, char in enumerate(sequence):\n",
        "        x[0, i, char2idx[char]] = 1\n",
        "\n",
        "    # Sample next char from predicted probabilities\n",
        "    probs = model.predict(x, verbose=0)[0]\n",
        "    probs /= probs.sum()\n",
        "    next_idx = np.random.choice(len(probs), p=probs)   \n",
        "    next_char = idx2char[next_idx]   \n",
        "    sequence = sequence[1:] + next_char\n",
        "\n",
        "    # New line means we have a new name\n",
        "    if next_char == '\\n':\n",
        "        gen_name = [name for name in sequence.split('\\n')][1]\n",
        "        trunc_name = gen_name[0:max_len]\n",
        "        tmp = [set_flag(char_index[j]) for j in str(trunc_name)]\n",
        "        for k in range(0,max_len - len(str(trunc_name))):\n",
        "            tmp.append(set_flag(char_index[\"END\"]))\n",
        "        pred = model_gru.predict(np.expand_dims(np.array(tmp), 0))\n",
        "        if np.argmax(pred) == 0 and len(male_names) < 20:\n",
        "            male_names.append(gen_name)\n",
        "            print('Generated {} male names'.format(len(male_names)))\n",
        "        elif np.argmax(pred) == 1 and len(female_names) < 20:\n",
        "            female_names.append(gen_name)\n",
        "            print('Generated {} female names'.format(len(female_names)))"
      ],
      "execution_count": null,
      "outputs": [
        {
          "output_type": "stream",
          "text": [
            "40 new names are being generated.\n",
            "Generated 1 female names\n",
            "Generated 2 female names\n",
            "Generated 1 male names\n",
            "Generated 3 female names\n",
            "Generated 4 female names\n",
            "Generated 5 female names\n",
            "Generated 6 female names\n",
            "Generated 7 female names\n",
            "Generated 8 female names\n",
            "Generated 9 female names\n",
            "Generated 10 female names\n",
            "Generated 2 male names\n",
            "Generated 3 male names\n",
            "Generated 11 female names\n",
            "Generated 12 female names\n",
            "Generated 4 male names\n",
            "Generated 5 male names\n",
            "Generated 13 female names\n",
            "Generated 14 female names\n",
            "Generated 6 male names\n",
            "Generated 15 female names\n",
            "Generated 16 female names\n",
            "Generated 17 female names\n",
            "Generated 18 female names\n",
            "Generated 19 female names\n",
            "Generated 20 female names\n",
            "Generated 7 male names\n",
            "Generated 8 male names\n",
            "Generated 9 male names\n",
            "Generated 10 male names\n",
            "Generated 11 male names\n",
            "Generated 12 male names\n",
            "Generated 13 male names\n",
            "Generated 14 male names\n",
            "Generated 15 male names\n",
            "Generated 16 male names\n",
            "Generated 17 male names\n",
            "Generated 18 male names\n",
            "Generated 19 male names\n",
            "Generated 20 male names\n"
          ],
          "name": "stdout"
        }
      ]
    },
    {
      "cell_type": "code",
      "metadata": {
        "id": "j2YQpdnHtIvI",
        "outputId": "d696d9eb-86bd-49ae-8d9e-07341ba5bc5e",
        "colab": {
          "base_uri": "https://localhost:8080/"
        }
      },
      "source": [
        "male_names"
      ],
      "execution_count": null,
      "outputs": [
        {
          "output_type": "execute_result",
          "data": {
            "text/plain": [
              "['udis',\n",
              " 'idan',\n",
              " 'idan',\n",
              " 'idanjian',\n",
              " 'idanjian',\n",
              " 'idan',\n",
              " 'iaman',\n",
              " 'iamual',\n",
              " 'iamio',\n",
              " 'eamodo',\n",
              " 'eamodo',\n",
              " 'eamrod',\n",
              " 'eamion',\n",
              " 'eamir',\n",
              " 'edair',\n",
              " 'edaiman',\n",
              " 'edan',\n",
              " 'edanser',\n",
              " 'edasterios',\n",
              " 'edather']"
            ]
          },
          "metadata": {
            "tags": []
          },
          "execution_count": 113
        }
      ]
    },
    {
      "cell_type": "code",
      "metadata": {
        "id": "KqaWbD2G4Log",
        "outputId": "891ccb7e-06a9-4674-c97a-5f420ef24567",
        "colab": {
          "base_uri": "https://localhost:8080/"
        }
      },
      "source": [
        "female_names"
      ],
      "execution_count": null,
      "outputs": [
        {
          "output_type": "execute_result",
          "data": {
            "text/plain": [
              "['utne',\n",
              " 'utne',\n",
              " 'idivicka',\n",
              " 'idka',\n",
              " 'idka',\n",
              " 'idka',\n",
              " 'idkra',\n",
              " 'idalynn',\n",
              " 'idalynn',\n",
              " 'idalynn',\n",
              " 'idann',\n",
              " 'idannah',\n",
              " 'idal',\n",
              " 'idal',\n",
              " 'idana',\n",
              " 'ida',\n",
              " 'idaamathiya',\n",
              " 'iamanta',\n",
              " 'iamathawn',\n",
              " 'iamath']"
            ]
          },
          "metadata": {
            "tags": []
          },
          "execution_count": 114
        }
      ]
    },
    {
      "cell_type": "markdown",
      "metadata": {
        "id": "Bxky2QTLQJr0"
      },
      "source": [
        "# Problem Statement #2a\n",
        "- Train a language model using names starting with A, M, and Z.\n",
        "- Generate 50 names."
      ]
    },
    {
      "cell_type": "code",
      "metadata": {
        "id": "pymQrKi3QN0C"
      },
      "source": [
        "data = '\\n'.join([name for name in input.name if name[0] in ['A', 'M', 'Z']])\n",
        "chars = list(set('\\n'.join(data)))\n",
        "data_size, vocab_size = len(data), len(chars)"
      ],
      "execution_count": null,
      "outputs": []
    },
    {
      "cell_type": "code",
      "metadata": {
        "id": "WWY8tPINQmXr",
        "outputId": "f20fa94e-f2f4-4eec-8d3a-5690632c095a",
        "colab": {
          "base_uri": "https://localhost:8080/",
          "height": 35
        }
      },
      "source": [
        "data[:100]"
      ],
      "execution_count": null,
      "outputs": [
        {
          "output_type": "execute_result",
          "data": {
            "application/vnd.google.colaboratory.intrinsic+json": {
              "type": "string"
            },
            "text/plain": [
              "'Aaban\\nAabha\\nAabid\\nAabriella\\nAada\\nAadam\\nAadan\\nAadarsh\\nAaden\\nAadesh\\nAadhav\\nAadhavan\\nAadhi\\nAadhira\\nAadh'"
            ]
          },
          "metadata": {
            "tags": []
          },
          "execution_count": 118
        }
      ]
    },
    {
      "cell_type": "code",
      "metadata": {
        "id": "M3tD5WoLQwBt",
        "outputId": "82bdb2a8-a444-411f-a944-9b018b7f7f7d",
        "colab": {
          "base_uri": "https://localhost:8080/"
        }
      },
      "source": [
        "input_names = input.name.values\n",
        "# Build translation dictionaries, 'a' -> 0, 0 -> 'a'\n",
        "char2idx = dict((c, i) for i, c in enumerate(chars))\n",
        "idx2char = dict((i, c) for i, c in enumerate(chars))\n",
        "\n",
        "# Use longest name length as our sequence window\n",
        "max_sequence_length = max([len(name) for name in input_names])\n",
        "\n",
        "print(f'Total chars: {vocab_size}')\n",
        "print('Corpus length:', len(data))\n",
        "print('Number of names: ', len(input_names))\n",
        "print('Longest name: ', max_sequence_length)"
      ],
      "execution_count": null,
      "outputs": [
        {
          "output_type": "stream",
          "text": [
            "Total chars: 30\n",
            "Corpus length: 144384\n",
            "Number of names:  95026\n",
            "Longest name:  15\n"
          ],
          "name": "stdout"
        }
      ]
    },
    {
      "cell_type": "code",
      "metadata": {
        "id": "nJ08fHP7QwiG",
        "outputId": "af7fa2d8-a0e4-45a3-c370-2d17ec9e7539",
        "colab": {
          "base_uri": "https://localhost:8080/"
        }
      },
      "source": [
        "sequences = []\n",
        "next_chars = []\n",
        "step_length = 1\n",
        "# Loop over our data and extract pairs of sequances and next chars\n",
        "for i in range(0, len(data) - max_sequence_length, step_length):\n",
        "    sequences.append(data[i: i + max_sequence_length])\n",
        "    next_chars.append(data[i + max_sequence_length])\n",
        "\n",
        "num_sequences = len(sequences)\n",
        "\n",
        "print(f'Number of sequences: {num_sequences}')\n",
        "print('First 10 sequences and next chars:')\n",
        "for i in range(10):\n",
        "    print('X=[{}]   y=[{}]'.replace('\\n', ' ').format(sequences[i], next_chars[i]).replace('\\n', ' '))"
      ],
      "execution_count": null,
      "outputs": [
        {
          "output_type": "stream",
          "text": [
            "Number of sequences: 144369\n",
            "First 10 sequences and next chars:\n",
            "X=[Aaban Aabha Aab]   y=[i]\n",
            "X=[aban Aabha Aabi]   y=[d]\n",
            "X=[ban Aabha Aabid]   y=[ ]\n",
            "X=[an Aabha Aabid ]   y=[A]\n",
            "X=[n Aabha Aabid A]   y=[a]\n",
            "X=[ Aabha Aabid Aa]   y=[b]\n",
            "X=[Aabha Aabid Aab]   y=[r]\n",
            "X=[abha Aabid Aabr]   y=[i]\n",
            "X=[bha Aabid Aabri]   y=[e]\n",
            "X=[ha Aabid Aabrie]   y=[l]\n"
          ],
          "name": "stdout"
        }
      ]
    },
    {
      "cell_type": "code",
      "metadata": {
        "id": "2P3cL5tSQ3wP",
        "outputId": "05bbc7db-4c56-455a-d473-6e1f7ace3d12",
        "colab": {
          "base_uri": "https://localhost:8080/"
        }
      },
      "source": [
        "X = np.zeros((num_sequences, max_sequence_length, vocab_size), dtype=np.bool)\n",
        "Y = np.zeros((num_sequences, vocab_size), dtype=np.bool)\n",
        "\n",
        "for i, sequence in enumerate(sequences):\n",
        "    for j, char in enumerate(sequence):\n",
        "        X[i, j, char2idx[char]] = 1\n",
        "    Y[i, char2idx[next_chars[i]]] = 1\n",
        "    \n",
        "print(f'X shape: {X.shape}')\n",
        "print(f'Y shape: {Y.shape}')"
      ],
      "execution_count": null,
      "outputs": [
        {
          "output_type": "stream",
          "text": [
            "X shape: (144369, 15, 30)\n",
            "Y shape: (144369, 30)\n"
          ],
          "name": "stdout"
        }
      ]
    },
    {
      "cell_type": "code",
      "metadata": {
        "id": "7aX4QXPIQ0i_",
        "outputId": "d1f61871-ea40-4950-a1d2-a3e2beaf60a7",
        "colab": {
          "base_uri": "https://localhost:8080/"
        }
      },
      "source": [
        "from keras.optimizers import RMSprop\n",
        "model = Sequential()\n",
        "model.add(LSTM(64, input_shape=(max_sequence_length, vocab_size), recurrent_dropout=0.2))\n",
        "model.add(Dense(units=vocab_size, activation='softmax'))\n",
        "\n",
        "optimizer = RMSprop(lr=0.01)\n",
        "model.compile(loss='categorical_crossentropy',\n",
        "              optimizer=optimizer)\n",
        "\n",
        "model.summary()"
      ],
      "execution_count": null,
      "outputs": [
        {
          "output_type": "stream",
          "text": [
            "Model: \"sequential_21\"\n",
            "_________________________________________________________________\n",
            "Layer (type)                 Output Shape              Param #   \n",
            "=================================================================\n",
            "lstm_8 (LSTM)                (None, 64)                24320     \n",
            "_________________________________________________________________\n",
            "dense_21 (Dense)             (None, 30)                1950      \n",
            "=================================================================\n",
            "Total params: 26,270\n",
            "Trainable params: 26,270\n",
            "Non-trainable params: 0\n",
            "_________________________________________________________________\n"
          ],
          "name": "stdout"
        }
      ]
    },
    {
      "cell_type": "code",
      "metadata": {
        "id": "ZCnBm7m7Q88V",
        "outputId": "8bda4689-1ca7-4276-cac5-a9beee37a9f7",
        "colab": {
          "base_uri": "https://localhost:8080/"
        }
      },
      "source": [
        "%%time\n",
        "history = model.fit(X, Y, epochs=20, batch_size=256, verbose=1)"
      ],
      "execution_count": null,
      "outputs": [
        {
          "output_type": "stream",
          "text": [
            "Epoch 1/20\n",
            "564/564 [==============================] - 21s 36ms/step - loss: 1.5252\n",
            "Epoch 2/20\n",
            "564/564 [==============================] - 21s 36ms/step - loss: 1.0142\n",
            "Epoch 3/20\n",
            "564/564 [==============================] - 20s 36ms/step - loss: 0.9302\n",
            "Epoch 4/20\n",
            "564/564 [==============================] - 21s 36ms/step - loss: 0.8855\n",
            "Epoch 5/20\n",
            "564/564 [==============================] - 21s 37ms/step - loss: 0.8565\n",
            "Epoch 6/20\n",
            "564/564 [==============================] - 21s 38ms/step - loss: 0.8360\n",
            "Epoch 7/20\n",
            "564/564 [==============================] - 21s 38ms/step - loss: 0.8211\n",
            "Epoch 8/20\n",
            "564/564 [==============================] - 24s 43ms/step - loss: 0.8113\n",
            "Epoch 9/20\n",
            "564/564 [==============================] - 21s 38ms/step - loss: 0.8020\n",
            "Epoch 10/20\n",
            "564/564 [==============================] - 21s 38ms/step - loss: 0.7928\n",
            "Epoch 11/20\n",
            "564/564 [==============================] - 21s 38ms/step - loss: 0.7864\n",
            "Epoch 12/20\n",
            "564/564 [==============================] - 21s 38ms/step - loss: 0.7796\n",
            "Epoch 13/20\n",
            "564/564 [==============================] - 21s 37ms/step - loss: 0.7746\n",
            "Epoch 14/20\n",
            "564/564 [==============================] - 21s 37ms/step - loss: 0.7681\n",
            "Epoch 15/20\n",
            "564/564 [==============================] - 21s 37ms/step - loss: 0.7645\n",
            "Epoch 16/20\n",
            "564/564 [==============================] - 21s 37ms/step - loss: 0.7609\n",
            "Epoch 17/20\n",
            "564/564 [==============================] - 21s 37ms/step - loss: 0.7565\n",
            "Epoch 18/20\n",
            "564/564 [==============================] - 21s 36ms/step - loss: 0.7517\n",
            "Epoch 19/20\n",
            "564/564 [==============================] - 21s 36ms/step - loss: 0.7496\n",
            "Epoch 20/20\n",
            "564/564 [==============================] - 21s 36ms/step - loss: 0.7461\n",
            "CPU times: user 11min 48s, sys: 35.3 s, total: 12min 23s\n",
            "Wall time: 7min 4s\n"
          ],
          "name": "stdout"
        }
      ]
    },
    {
      "cell_type": "code",
      "metadata": {
        "id": "nI8Hoa01RD1s",
        "outputId": "720f1c7a-9ec1-4638-89e3-9defdb8889e5",
        "colab": {
          "base_uri": "https://localhost:8080/"
        }
      },
      "source": [
        "gen_amount = 50\n",
        "\n",
        "# Start sequence generation from end of the input sequence\n",
        "sequence = data[-(max_sequence_length - 1):] + '\\n'\n",
        "\n",
        "new_names = []\n",
        "\n",
        "print(f'{gen_amount} new names are being generated')\n",
        "\n",
        "while len(new_names) < gen_amount:\n",
        "    \n",
        "    # Vectorize sequence for prediction\n",
        "    x = np.zeros((1, max_sequence_length, vocab_size))\n",
        "    for i, char in enumerate(sequence):\n",
        "        x[0, i, char2idx[char]] = 1\n",
        "\n",
        "    # Sample next char from predicted probabilities\n",
        "    probs = model.predict(x, verbose=0)[0]\n",
        "    probs /= probs.sum()\n",
        "    next_idx = np.random.choice(len(probs), p=probs)   \n",
        "    next_char = idx2char[next_idx]   \n",
        "    sequence = sequence[1:] + next_char\n",
        "\n",
        "    # New line means we have a new name\n",
        "    if next_char == '\\n':\n",
        "        gen_name = [name for name in sequence.split('\\n')][1]\n",
        "        new_names.append(gen_name)\n",
        "        if 0 == (len(new_names) % (gen_amount/ 10)):\n",
        "            print('Generated {}'.format(len(new_names)))"
      ],
      "execution_count": null,
      "outputs": [
        {
          "output_type": "stream",
          "text": [
            "50 new names are being generated\n",
            "Generated 5\n",
            "Generated 10\n",
            "Generated 15\n",
            "Generated 20\n",
            "Generated 25\n",
            "Generated 30\n",
            "Generated 35\n",
            "Generated 40\n",
            "Generated 45\n",
            "Generated 50\n"
          ],
          "name": "stdout"
        }
      ]
    },
    {
      "cell_type": "code",
      "metadata": {
        "id": "FZqN6bEYRTeY",
        "outputId": "6bfdd464-3c95-4483-9e87-cc8f630b09b2",
        "colab": {
          "base_uri": "https://localhost:8080/"
        }
      },
      "source": [
        "new_names"
      ],
      "execution_count": null,
      "outputs": [
        {
          "output_type": "execute_result",
          "data": {
            "text/plain": [
              "['Zzyzx',\n",
              " 'Zway',\n",
              " 'Zayea',\n",
              " 'Zayeana',\n",
              " 'Zayeana',\n",
              " 'Zayeana',\n",
              " 'Zayee',\n",
              " 'Zayel',\n",
              " 'Zayelyn',\n",
              " 'Zayelyn',\n",
              " 'Zayelin',\n",
              " 'Zayemna',\n",
              " 'Zayemna',\n",
              " 'Zayan',\n",
              " 'Zayab',\n",
              " 'Zayad',\n",
              " 'Zayaalie',\n",
              " 'Zayan',\n",
              " 'Zayan',\n",
              " 'Zayanna',\n",
              " 'Zaydonieka',\n",
              " 'Zaydus',\n",
              " 'Zaydus',\n",
              " 'Zaydo',\n",
              " 'Zaydean',\n",
              " 'Zaydelynn',\n",
              " 'Zayden',\n",
              " 'Zayeesha',\n",
              " 'Zayeerr',\n",
              " 'Zayeria',\n",
              " 'Zayera',\n",
              " 'Zayerah',\n",
              " 'Zayesha',\n",
              " 'Zayeva',\n",
              " 'Zayeva',\n",
              " 'Zayelia',\n",
              " 'Zayella',\n",
              " 'Zayella',\n",
              " 'Zayelyn',\n",
              " 'Zayelynn',\n",
              " 'Zaylen',\n",
              " 'Zayleen',\n",
              " 'Zaylee',\n",
              " 'Zaylene',\n",
              " 'Zaylen',\n",
              " 'Zaylina',\n",
              " 'Zaylina',\n",
              " 'Zaylinna',\n",
              " 'Zaylinna',\n",
              " 'Zayline']"
            ]
          },
          "metadata": {
            "tags": []
          },
          "execution_count": 131
        }
      ]
    }
  ]
}