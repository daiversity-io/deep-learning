{
  "nbformat": 4,
  "nbformat_minor": 0,
  "metadata": {
    "kernelspec": {
      "display_name": "Python 3",
      "language": "python",
      "name": "python3"
    },
    "language_info": {
      "codemirror_mode": {
        "name": "ipython",
        "version": 3
      },
      "file_extension": ".py",
      "mimetype": "text/x-python",
      "name": "python",
      "nbconvert_exporter": "python",
      "pygments_lexer": "ipython3",
      "version": "3.7.6"
    },
    "colab": {
      "name": "Assignment4.ipynb",
      "provenance": [],
      "collapsed_sections": []
    }
  },
  "cells": [
    {
      "cell_type": "markdown",
      "metadata": {
        "id": "ckZfTNFl96Mc"
      },
      "source": [
        "# Deep Learning Assignment 4: CNNs for Face Identification \n",
        "\n",
        "We will perform face identification using a subset of the [Labeled Faces in the Wild (LFW) dataset](http://vis-www.cs.umass.edu/lfw/). Face identification is a multi-class calssification problem where we have training/testing images for a set of subjects (classes). In 2014, researchers were able to surpass human accuracy in facial identification tasks using CNN models (along with advanced deep learning techniques)! \n",
        "\n",
        "We will observe the performance of a traditional face identification method, [Eigenfaces](https://en.wikipedia.org/wiki/Eigenface). We will then build a CNN model in order to surpass the accuracy of the traditional Eigenfaces technique. In the process, we will learn about the great power of CNNs!\n",
        "\n",
        "### Requirements\n",
        "\n",
        "1. Python 3.6\n",
        "2. `pip install numpy`\n",
        "3. `pip install sklearn`\n",
        "4. `pip install matplotlib`\n",
        "5. `pip install tensorflow==2.0.0`\n",
        "\n",
        "\n",
        "### Rubric\n",
        "\n",
        "1. Complete the sample CNN as specified by the comments (2 pts.)\n",
        "2. Build three CNN models which surpass the traditional Eigenface method test accuracy. In each model use different architectures and optimizers. Points will be not be awarded if models architectures are not sufficiently different (3 pts.)\n",
        "3. Build a fourth CNN model which achieves >70% test accuracy (3 pts.)\n",
        "4. Display a correctly identified image and a training image corresponding to the correct training subject (1 pts.)\n",
        "5. Display a incorrectly identified image and a training image corresponding to the correct training subject (1 pts.)\n"
      ]
    },
    {
      "cell_type": "code",
      "metadata": {
        "id": "sedjrhus_bYp",
        "outputId": "f8a3ed42-20f0-4212-80f8-06e5cb2b34ee",
        "colab": {
          "base_uri": "https://localhost:8080/",
          "height": 1000
        }
      },
      "source": [
        "!pip install tensorflow==2.0.0"
      ],
      "execution_count": null,
      "outputs": [
        {
          "output_type": "stream",
          "text": [
            "Collecting tensorflow==2.0.0\n",
            "\u001b[?25l  Downloading https://files.pythonhosted.org/packages/46/0f/7bd55361168bb32796b360ad15a25de6966c9c1beb58a8e30c01c8279862/tensorflow-2.0.0-cp36-cp36m-manylinux2010_x86_64.whl (86.3MB)\n",
            "\u001b[K     |████████████████████████████████| 86.3MB 70kB/s \n",
            "\u001b[?25hRequirement already satisfied: absl-py>=0.7.0 in /usr/local/lib/python3.6/dist-packages (from tensorflow==2.0.0) (0.10.0)\n",
            "Collecting tensorboard<2.1.0,>=2.0.0\n",
            "\u001b[?25l  Downloading https://files.pythonhosted.org/packages/76/54/99b9d5d52d5cb732f099baaaf7740403e83fe6b0cedde940fabd2b13d75a/tensorboard-2.0.2-py3-none-any.whl (3.8MB)\n",
            "\u001b[K     |████████████████████████████████| 3.8MB 45.9MB/s \n",
            "\u001b[?25hCollecting tensorflow-estimator<2.1.0,>=2.0.0\n",
            "\u001b[?25l  Downloading https://files.pythonhosted.org/packages/fc/08/8b927337b7019c374719145d1dceba21a8bb909b93b1ad6f8fb7d22c1ca1/tensorflow_estimator-2.0.1-py2.py3-none-any.whl (449kB)\n",
            "\u001b[K     |████████████████████████████████| 450kB 44.8MB/s \n",
            "\u001b[?25hRequirement already satisfied: protobuf>=3.6.1 in /usr/local/lib/python3.6/dist-packages (from tensorflow==2.0.0) (3.12.4)\n",
            "Collecting keras-applications>=1.0.8\n",
            "\u001b[?25l  Downloading https://files.pythonhosted.org/packages/71/e3/19762fdfc62877ae9102edf6342d71b28fbfd9dea3d2f96a882ce099b03f/Keras_Applications-1.0.8-py3-none-any.whl (50kB)\n",
            "\u001b[K     |████████████████████████████████| 51kB 6.6MB/s \n",
            "\u001b[?25hRequirement already satisfied: opt-einsum>=2.3.2 in /usr/local/lib/python3.6/dist-packages (from tensorflow==2.0.0) (3.3.0)\n",
            "Requirement already satisfied: google-pasta>=0.1.6 in /usr/local/lib/python3.6/dist-packages (from tensorflow==2.0.0) (0.2.0)\n",
            "Requirement already satisfied: astor>=0.6.0 in /usr/local/lib/python3.6/dist-packages (from tensorflow==2.0.0) (0.8.1)\n",
            "Collecting gast==0.2.2\n",
            "  Downloading https://files.pythonhosted.org/packages/4e/35/11749bf99b2d4e3cceb4d55ca22590b0d7c2c62b9de38ac4a4a7f4687421/gast-0.2.2.tar.gz\n",
            "Requirement already satisfied: keras-preprocessing>=1.0.5 in /usr/local/lib/python3.6/dist-packages (from tensorflow==2.0.0) (1.1.2)\n",
            "Requirement already satisfied: six>=1.10.0 in /usr/local/lib/python3.6/dist-packages (from tensorflow==2.0.0) (1.15.0)\n",
            "Requirement already satisfied: wrapt>=1.11.1 in /usr/local/lib/python3.6/dist-packages (from tensorflow==2.0.0) (1.12.1)\n",
            "Requirement already satisfied: numpy<2.0,>=1.16.0 in /usr/local/lib/python3.6/dist-packages (from tensorflow==2.0.0) (1.18.5)\n",
            "Requirement already satisfied: termcolor>=1.1.0 in /usr/local/lib/python3.6/dist-packages (from tensorflow==2.0.0) (1.1.0)\n",
            "Requirement already satisfied: grpcio>=1.8.6 in /usr/local/lib/python3.6/dist-packages (from tensorflow==2.0.0) (1.32.0)\n",
            "Requirement already satisfied: wheel>=0.26 in /usr/local/lib/python3.6/dist-packages (from tensorflow==2.0.0) (0.35.1)\n",
            "Requirement already satisfied: google-auth<2,>=1.6.3 in /usr/local/lib/python3.6/dist-packages (from tensorboard<2.1.0,>=2.0.0->tensorflow==2.0.0) (1.17.2)\n",
            "Requirement already satisfied: werkzeug>=0.11.15 in /usr/local/lib/python3.6/dist-packages (from tensorboard<2.1.0,>=2.0.0->tensorflow==2.0.0) (1.0.1)\n",
            "Requirement already satisfied: setuptools>=41.0.0 in /usr/local/lib/python3.6/dist-packages (from tensorboard<2.1.0,>=2.0.0->tensorflow==2.0.0) (50.3.0)\n",
            "Requirement already satisfied: markdown>=2.6.8 in /usr/local/lib/python3.6/dist-packages (from tensorboard<2.1.0,>=2.0.0->tensorflow==2.0.0) (3.2.2)\n",
            "Requirement already satisfied: google-auth-oauthlib<0.5,>=0.4.1 in /usr/local/lib/python3.6/dist-packages (from tensorboard<2.1.0,>=2.0.0->tensorflow==2.0.0) (0.4.1)\n",
            "Requirement already satisfied: requests<3,>=2.21.0 in /usr/local/lib/python3.6/dist-packages (from tensorboard<2.1.0,>=2.0.0->tensorflow==2.0.0) (2.23.0)\n",
            "Requirement already satisfied: h5py in /usr/local/lib/python3.6/dist-packages (from keras-applications>=1.0.8->tensorflow==2.0.0) (2.10.0)\n",
            "Requirement already satisfied: rsa<5,>=3.1.4; python_version >= \"3\" in /usr/local/lib/python3.6/dist-packages (from google-auth<2,>=1.6.3->tensorboard<2.1.0,>=2.0.0->tensorflow==2.0.0) (4.6)\n",
            "Requirement already satisfied: cachetools<5.0,>=2.0.0 in /usr/local/lib/python3.6/dist-packages (from google-auth<2,>=1.6.3->tensorboard<2.1.0,>=2.0.0->tensorflow==2.0.0) (4.1.1)\n",
            "Requirement already satisfied: pyasn1-modules>=0.2.1 in /usr/local/lib/python3.6/dist-packages (from google-auth<2,>=1.6.3->tensorboard<2.1.0,>=2.0.0->tensorflow==2.0.0) (0.2.8)\n",
            "Requirement already satisfied: importlib-metadata; python_version < \"3.8\" in /usr/local/lib/python3.6/dist-packages (from markdown>=2.6.8->tensorboard<2.1.0,>=2.0.0->tensorflow==2.0.0) (2.0.0)\n",
            "Requirement already satisfied: requests-oauthlib>=0.7.0 in /usr/local/lib/python3.6/dist-packages (from google-auth-oauthlib<0.5,>=0.4.1->tensorboard<2.1.0,>=2.0.0->tensorflow==2.0.0) (1.3.0)\n",
            "Requirement already satisfied: certifi>=2017.4.17 in /usr/local/lib/python3.6/dist-packages (from requests<3,>=2.21.0->tensorboard<2.1.0,>=2.0.0->tensorflow==2.0.0) (2020.6.20)\n",
            "Requirement already satisfied: urllib3!=1.25.0,!=1.25.1,<1.26,>=1.21.1 in /usr/local/lib/python3.6/dist-packages (from requests<3,>=2.21.0->tensorboard<2.1.0,>=2.0.0->tensorflow==2.0.0) (1.24.3)\n",
            "Requirement already satisfied: chardet<4,>=3.0.2 in /usr/local/lib/python3.6/dist-packages (from requests<3,>=2.21.0->tensorboard<2.1.0,>=2.0.0->tensorflow==2.0.0) (3.0.4)\n",
            "Requirement already satisfied: idna<3,>=2.5 in /usr/local/lib/python3.6/dist-packages (from requests<3,>=2.21.0->tensorboard<2.1.0,>=2.0.0->tensorflow==2.0.0) (2.10)\n",
            "Requirement already satisfied: pyasn1>=0.1.3 in /usr/local/lib/python3.6/dist-packages (from rsa<5,>=3.1.4; python_version >= \"3\"->google-auth<2,>=1.6.3->tensorboard<2.1.0,>=2.0.0->tensorflow==2.0.0) (0.4.8)\n",
            "Requirement already satisfied: zipp>=0.5 in /usr/local/lib/python3.6/dist-packages (from importlib-metadata; python_version < \"3.8\"->markdown>=2.6.8->tensorboard<2.1.0,>=2.0.0->tensorflow==2.0.0) (3.2.0)\n",
            "Requirement already satisfied: oauthlib>=3.0.0 in /usr/local/lib/python3.6/dist-packages (from requests-oauthlib>=0.7.0->google-auth-oauthlib<0.5,>=0.4.1->tensorboard<2.1.0,>=2.0.0->tensorflow==2.0.0) (3.1.0)\n",
            "Building wheels for collected packages: gast\n",
            "  Building wheel for gast (setup.py) ... \u001b[?25l\u001b[?25hdone\n",
            "  Created wheel for gast: filename=gast-0.2.2-cp36-none-any.whl size=7542 sha256=e818163d0771f619d10ce014872161a518d1d2fcdb97275a43b159747604366f\n",
            "  Stored in directory: /root/.cache/pip/wheels/5c/2e/7e/a1d4d4fcebe6c381f378ce7743a3ced3699feb89bcfbdadadd\n",
            "Successfully built gast\n",
            "\u001b[31mERROR: tensorflow-probability 0.11.0 has requirement gast>=0.3.2, but you'll have gast 0.2.2 which is incompatible.\u001b[0m\n",
            "Installing collected packages: tensorboard, tensorflow-estimator, keras-applications, gast, tensorflow\n",
            "  Found existing installation: tensorboard 2.3.0\n",
            "    Uninstalling tensorboard-2.3.0:\n",
            "      Successfully uninstalled tensorboard-2.3.0\n",
            "  Found existing installation: tensorflow-estimator 2.3.0\n",
            "    Uninstalling tensorflow-estimator-2.3.0:\n",
            "      Successfully uninstalled tensorflow-estimator-2.3.0\n",
            "  Found existing installation: gast 0.3.3\n",
            "    Uninstalling gast-0.3.3:\n",
            "      Successfully uninstalled gast-0.3.3\n",
            "  Found existing installation: tensorflow 2.3.0\n",
            "    Uninstalling tensorflow-2.3.0:\n",
            "      Successfully uninstalled tensorflow-2.3.0\n",
            "Successfully installed gast-0.2.2 keras-applications-1.0.8 tensorboard-2.0.2 tensorflow-2.0.0 tensorflow-estimator-2.0.1\n"
          ],
          "name": "stdout"
        }
      ]
    },
    {
      "cell_type": "code",
      "metadata": {
        "scrolled": true,
        "id": "a5TxQzlW96Md"
      },
      "source": [
        "import numpy as np\n",
        "from sklearn.utils.class_weight import compute_class_weight\n",
        "from sklearn.metrics import accuracy_score\n",
        "from sklearn.datasets import fetch_lfw_people\n",
        "from sklearn.decomposition import PCA\n",
        "from sklearn.model_selection import train_test_split\n",
        "import tensorflow as tf\n",
        "from tensorflow.keras.models import Model\n",
        "from tensorflow.keras.layers import Input, Dense, Activation, Conv2D, MaxPool2D, AveragePooling2D, Flatten, Dropout, BatchNormalization\n",
        "from tensorflow.keras.optimizers import SGD, RMSprop, Adam\n",
        "import matplotlib.pyplot as plt\n",
        "\n",
        "np.random.seed(42)\n",
        "tf.random.set_seed(42)"
      ],
      "execution_count": null,
      "outputs": []
    },
    {
      "cell_type": "markdown",
      "metadata": {
        "id": "SZEWxByP96Mi"
      },
      "source": [
        "Let's start by downloading and setting up a subset of the aligned and segmented version of the LFW dataset. We will only get subjects with at least 20 corresponding images. We will also get the grayscale versions of the images. This may take a few minutes . . ."
      ]
    },
    {
      "cell_type": "code",
      "metadata": {
        "scrolled": true,
        "id": "xcYAqRff96Mj",
        "outputId": "ee859b0d-4b03-473f-e1e7-4188463f706a",
        "colab": {
          "base_uri": "https://localhost:8080/",
          "height": 87
        }
      },
      "source": [
        "data_x, data_y = fetch_lfw_people(min_faces_per_person=20, color=False, return_X_y=True)\n",
        "# normalize pixel values to [0,1]\n",
        "data_x = data_x / 255."
      ],
      "execution_count": null,
      "outputs": [
        {
          "output_type": "stream",
          "text": [
            "Downloading LFW metadata: https://ndownloader.figshare.com/files/5976012\n",
            "Downloading LFW metadata: https://ndownloader.figshare.com/files/5976009\n",
            "Downloading LFW metadata: https://ndownloader.figshare.com/files/5976006\n",
            "Downloading LFW data (~200MB): https://ndownloader.figshare.com/files/5976015\n"
          ],
          "name": "stderr"
        }
      ]
    },
    {
      "cell_type": "markdown",
      "metadata": {
        "id": "DVDsuQ1j96Mm"
      },
      "source": [
        "The downloaded `data_x` will be the flattened vector representation of the images. \n",
        "\n",
        "We will reshape the vector respresentations back into the original grayscale images and store the images back in `data_x`."
      ]
    },
    {
      "cell_type": "code",
      "metadata": {
        "id": "iyMtEufp96Mn",
        "outputId": "26e1adf8-6a5a-4a57-f0da-fa5ed441e716",
        "colab": {
          "base_uri": "https://localhost:8080/",
          "height": 105
        }
      },
      "source": [
        "num_subjects = np.unique(data_y).shape[0]\n",
        "print(\"Number of subjects: {}\".format(np.unique(data_y).shape[0]))\n",
        "print(\"Number of images: {}\\n\".format(data_y.shape[0]))\n",
        "\n",
        "# image_x will contain the original grayscale images \n",
        "data_x = np.copy(data_x.reshape((data_x.shape[0], 62, 47, 1)))\n",
        "\n",
        "print(\"data_x shape: {}\".format(data_x.shape))\n",
        "print(\"data_y shape: {}\".format(data_y.shape))"
      ],
      "execution_count": null,
      "outputs": [
        {
          "output_type": "stream",
          "text": [
            "Number of subjects: 62\n",
            "Number of images: 3023\n",
            "\n",
            "data_x shape: (3023, 62, 47, 1)\n",
            "data_y shape: (3023,)\n"
          ],
          "name": "stdout"
        }
      ]
    },
    {
      "cell_type": "markdown",
      "metadata": {
        "id": "t8IAXU3x96Ms"
      },
      "source": [
        "As we can see, the dataset is made up of `3023` images of `62` subjects (or classes). \n",
        "\n",
        "Each image is a `62x47x1`-dimensional matrix containing 8-bit (0-255) grayscale pixel values.\n",
        "\n",
        "Let's visualize a few of the grayscale images."
      ]
    },
    {
      "cell_type": "code",
      "metadata": {
        "scrolled": true,
        "id": "d3TfkWRW96Ms",
        "outputId": "e80e189e-6ca4-4a37-d3d8-3d2fd6448435",
        "colab": {
          "base_uri": "https://localhost:8080/",
          "height": 1000
        }
      },
      "source": [
        "np.random.seed(42)\n",
        "for i in range(5):\n",
        "    rnd_idx = np.random.choice(data_y.shape[0])\n",
        "    rnd_img = data_x[rnd_idx]\n",
        "    plt.figure()\n",
        "    plt.imshow(rnd_img[:, :, 0], cmap=\"gray\")"
      ],
      "execution_count": null,
      "outputs": [
        {
          "output_type": "display_data",
          "data": {
            "image/png": "[encoded data removed]",
            "text/plain": [
              "<Figure size 432x288 with 1 Axes>"
            ]
          },
          "metadata": {
            "tags": [],
            "needs_background": "light"
          }
        },
        {
          "output_type": "display_data",
          "data": {
            "image/png": "[encoded data removed]",
            "text/plain": [
              "<Figure size 432x288 with 1 Axes>"
            ]
          },
          "metadata": {
            "tags": [],
            "needs_background": "light"
          }
        },
        {
          "output_type": "display_data",
          "data": {
            "image/png": "[encoded data removed]",
            "text/plain": [
              "<Figure size 432x288 with 1 Axes>"
            ]
          },
          "metadata": {
            "tags": [],
            "needs_background": "light"
          }
        },
        {
          "output_type": "display_data",
          "data": {
            "image/png": "[encoded data removed]",
            "text/plain": [
              "<Figure size 432x288 with 1 Axes>"
            ]
          },
          "metadata": {
            "tags": [],
            "needs_background": "light"
          }
        },
        {
          "output_type": "display_data",
          "data": {
            "image/png": "[encoded data removed]",
            "text/plain": [
              "<Figure size 432x288 with 1 Axes>"
            ]
          },
          "metadata": {
            "tags": [],
            "needs_background": "light"
          }
        }
      ]
    },
    {
      "cell_type": "markdown",
      "metadata": {
        "id": "dlWkqGdy96Mw"
      },
      "source": [
        "Now, let's split the dataset into train and test sets so we can perform face identification!\n",
        "\n",
        "We will perform a `90/10` stratified split. This means that `90%` of each subject's images are placed in the train set, while the remaining `10%` of each subject's images are placed into the test set. "
      ]
    },
    {
      "cell_type": "code",
      "metadata": {
        "id": "i99HZX-D96Mw",
        "outputId": "7d1e8faf-1651-4bc9-d8b5-190ac982ab85",
        "colab": {
          "base_uri": "https://localhost:8080/",
          "height": 105
        }
      },
      "source": [
        "train_x, test_x, train_y, test_y = train_test_split(data_x, data_y, test_size=0.1, random_state=42)\n",
        "\n",
        "print(\"train_x shape: {}\".format(train_x.shape))\n",
        "print(\"train_y shape: {}\\n\".format(train_y.shape))\n",
        "\n",
        "print(\"test_x shape: {}\".format(test_x.shape))\n",
        "print(\"test_y shape: {}\".format(test_y.shape))"
      ],
      "execution_count": null,
      "outputs": [
        {
          "output_type": "stream",
          "text": [
            "train_x shape: (2720, 62, 47, 1)\n",
            "train_y shape: (2720,)\n",
            "\n",
            "test_x shape: (303, 62, 47, 1)\n",
            "test_y shape: (303,)\n"
          ],
          "name": "stdout"
        }
      ]
    },
    {
      "cell_type": "markdown",
      "metadata": {
        "id": "3dyJTaaV96M0"
      },
      "source": [
        "### Eigenfaces Overview\n",
        "\n",
        "Eigenfaces is a face identification technique proposed in 1987. It was a very popular algorithm through the 1990's and is still used today as a baseline algorithm when gauging the performance of proposed face identification techniques. Eigenfaces is used to extract features from facial images. Such facial features are more useful in identification tasks than the corresponding oringinal images. The facial features can then be used for identification by being classified by a multi-class classifier, such a logistic regression model. \n",
        "\n",
        "### Eigenfaces Details\n",
        "\n",
        "Eigenfaces is a Principcal Componet Analysis (PCA)-based dimensionality-reduction technique. Eigenfaces deals with the flattened vector representations of the face images. \n",
        "\n",
        "We give the vector representation of the training images as input to the algorithm. The output of the algoirthm is a set of Eigenfaces (vectors) which we can use to project vector representations of images into a lower-dimensional space which (hopefully) encode important facial features. \n",
        "\n",
        "Since the lower-dimensional space captures important facial features, Eigenfaces is used as a feature extraction technique. Given a facial image, we can reshape the image into a vector. Using the Eigenfaces, we reduce the dimensionality of the original vector into a vector which is more useful in identifying its corresponging subject. Therefore, we will use the Eigenfaces to extract facial features. Then, we will use a simple logistic regression classifier to classify the resulting facial features.\n",
        "\n",
        "Let's start by flattening the training facial images. Then we will continue by computing the Eigenfaces which capture `95%` of the variance of the original dataset."
      ]
    },
    {
      "cell_type": "code",
      "metadata": {
        "id": "L4TiZaf096M1",
        "outputId": "2aa72272-5707-47bd-c17a-723a4ef98825",
        "colab": {
          "base_uri": "https://localhost:8080/",
          "height": 52
        }
      },
      "source": [
        "# flatten images \n",
        "train_vector_x = train_x.reshape((train_x.shape[0], train_x.shape[1]*train_x.shape[2])) \n",
        "test_vector_x = test_x.reshape((test_x.shape[0], test_x.shape[1]*test_x.shape[2])) \n",
        "\n",
        "# retrieve eigenfaces\n",
        "pca = PCA(n_components=0.95, random_state=42)\n",
        "pca.fit(train_vector_x)\n",
        "eigenfaces = pca.components_\n",
        "\n",
        "print(\"Training vectors shape: {}\".format(train_vector_x.shape))\n",
        "print(\"Eigenfaces shape: {}\".format(eigenfaces.shape))"
      ],
      "execution_count": null,
      "outputs": [
        {
          "output_type": "stream",
          "text": [
            "Training vectors shape: (2720, 2914)\n",
            "Eigenfaces shape: (173, 2914)\n"
          ],
          "name": "stdout"
        }
      ]
    },
    {
      "cell_type": "markdown",
      "metadata": {
        "id": "ryKA72PB96M5"
      },
      "source": [
        "As we see, if we flatten the training images to gather their vector representations, we recieve `2720` vectors of size `2914`. We also see that we have found `173` Eigenfaces vectors of size `2914`.\n",
        "\n",
        "If we reshape the set of Eigenfaces to the shape of the original images, they reveal intesting ghost faces (i.e. \"Eigenfaces\").\n",
        "\n",
        "Let's view the first `10` Eigenfaces."
      ]
    },
    {
      "cell_type": "code",
      "metadata": {
        "id": "Rc0jg5JW96M6",
        "outputId": "e461f674-74db-4f24-b0a8-af2f9aac893c",
        "colab": {
          "base_uri": "https://localhost:8080/",
          "height": 1000
        }
      },
      "source": [
        "for i in range(10):\n",
        "    eigenface = eigenfaces[i].reshape((train_x.shape[1], train_x.shape[2]))\n",
        "    plt.figure()\n",
        "    plt.imshow(eigenface, cmap=\"gray\")"
      ],
      "execution_count": null,
      "outputs": [
        {
          "output_type": "display_data",
          "data": {
            "image/png": "[encoded data removed]",
            "text/plain": [
              "<Figure size 432x288 with 1 Axes>"
            ]
          },
          "metadata": {
            "tags": [],
            "needs_background": "light"
          }
        },
        {
          "output_type": "display_data",
          "data": {
            "image/png": "[encoded data removed]",
            "text/plain": [
              "<Figure size 432x288 with 1 Axes>"
            ]
          },
          "metadata": {
            "tags": [],
            "needs_background": "light"
          }
        },
        {
          "output_type": "display_data",
          "data": {
            "image/png": "[encoded data removed]",
            "text/plain": [
              "<Figure size 432x288 with 1 Axes>"
            ]
          },
          "metadata": {
            "tags": [],
            "needs_background": "light"
          }
        },
        {
          "output_type": "display_data",
          "data": {
            "image/png": "[encoded data removed]",
            "text/plain": [
              "<Figure size 432x288 with 1 Axes>"
            ]
          },
          "metadata": {
            "tags": [],
            "needs_background": "light"
          }
        },
        {
          "output_type": "display_data",
          "data": {
            "image/png": "[encoded data removed]",
            "text/plain": [
              "<Figure size 432x288 with 1 Axes>"
            ]
          },
          "metadata": {
            "tags": [],
            "needs_background": "light"
          }
        },
        {
          "output_type": "display_data",
          "data": {
            "image/png": "[encoded data removed]",
            "text/plain": [
              "<Figure size 432x288 with 1 Axes>"
            ]
          },
          "metadata": {
            "tags": [],
            "needs_background": "light"
          }
        },
        {
          "output_type": "display_data",
          "data": {
            "image/png": "[encoded data removed]",
            "text/plain": [
              "<Figure size 432x288 with 1 Axes>"
            ]
          },
          "metadata": {
            "tags": [],
            "needs_background": "light"
          }
        },
        {
          "output_type": "display_data",
          "data": {
            "image/png": "[encoded data removed]",
            "text/plain": [
              "<Figure size 432x288 with 1 Axes>"
            ]
          },
          "metadata": {
            "tags": [],
            "needs_background": "light"
          }
        },
        {
          "output_type": "display_data",
          "data": {
            "image/png": "[encoded data removed]",
            "text/plain": [
              "<Figure size 432x288 with 1 Axes>"
            ]
          },
          "metadata": {
            "tags": [],
            "needs_background": "light"
          }
        },
        {
          "output_type": "display_data",
          "data": {
            "image/png": "[encoded data removed]",
            "text/plain": [
              "<Figure size 432x288 with 1 Axes>"
            ]
          },
          "metadata": {
            "tags": [],
            "needs_background": "light"
          }
        }
      ]
    },
    {
      "cell_type": "markdown",
      "metadata": {
        "id": "fY4-Xrva96M-"
      },
      "source": [
        "Spooky!\n",
        "\n",
        "Now, let's use the Eigenfaces to extract facial features from the training and test set vectors. Since we have `173` Eigenfaces, we will reduce the dimensionality of the `2914`-dimensional train/test vectors to `173`-dimensional train/test feature vectors."
      ]
    },
    {
      "cell_type": "code",
      "metadata": {
        "id": "AL1N5qoR96M-",
        "outputId": "b51ede0a-13cb-46c7-cba3-3230bbb51433",
        "colab": {
          "base_uri": "https://localhost:8080/",
          "height": 87
        }
      },
      "source": [
        "train_features_x = np.dot(train_vector_x, eigenfaces.T)\n",
        "test_features_x = np.dot(test_vector_x, eigenfaces.T)\n",
        "\n",
        "print(\"Training vectors shape: {}\".format(train_vector_x.shape))\n",
        "print(\"Training features shape: {}\".format(train_features_x.shape))\n",
        "print(\"Testing vectors shape: {}\".format(test_vector_x.shape))\n",
        "print(\"Testing features shape: {}\".format(test_features_x.shape))"
      ],
      "execution_count": null,
      "outputs": [
        {
          "output_type": "stream",
          "text": [
            "Training vectors shape: (2720, 2914)\n",
            "Training features shape: (2720, 173)\n",
            "Testing vectors shape: (303, 2914)\n",
            "Testing features shape: (303, 173)\n"
          ],
          "name": "stdout"
        }
      ]
    },
    {
      "cell_type": "markdown",
      "metadata": {
        "id": "y8yV2jw796NB"
      },
      "source": [
        "Great! Now that we have extracted facial features from the train and testing set, let's perform facial identification using a simple logistic regression model!"
      ]
    },
    {
      "cell_type": "code",
      "metadata": {
        "scrolled": true,
        "id": "tYADx3Lr96NC",
        "outputId": "93b87ef1-37a9-49f8-8437-9ef7e07e5cf4",
        "colab": {
          "base_uri": "https://localhost:8080/",
          "height": 283
        }
      },
      "source": [
        "# specify the input size of the feature vectors\n",
        "features = Input((train_features_x.shape[1],))\n",
        "# a single fully-connected layer to map the features to a logit vector with one logit per subject\n",
        "x = Dense(num_subjects)(features)\n",
        "# use softmax activation to convert the logits to class probabilities for each subject\n",
        "predictions = Activation(\"softmax\")(x)\n",
        "\n",
        "# create the model using the layers we defined previously\n",
        "logistic_regression = Model(inputs=features, outputs=predictions)\n",
        "\n",
        "# compile the model so that it uses Adam for optimization during training with cross-entropy loss\n",
        "logistic_regression.compile(optimizer=Adam(), loss=\"sparse_categorical_crossentropy\", metrics=[\"acc\"])\n",
        "\n",
        "# print out a summary of the model achitecture\n",
        "print(logistic_regression.summary())"
      ],
      "execution_count": null,
      "outputs": [
        {
          "output_type": "stream",
          "text": [
            "Model: \"model\"\n",
            "_________________________________________________________________\n",
            "Layer (type)                 Output Shape              Param #   \n",
            "=================================================================\n",
            "input_1 (InputLayer)         [(None, 173)]             0         \n",
            "_________________________________________________________________\n",
            "dense (Dense)                (None, 62)                10788     \n",
            "_________________________________________________________________\n",
            "activation (Activation)      (None, 62)                0         \n",
            "=================================================================\n",
            "Total params: 10,788\n",
            "Trainable params: 10,788\n",
            "Non-trainable params: 0\n",
            "_________________________________________________________________\n",
            "None\n"
          ],
          "name": "stdout"
        }
      ]
    },
    {
      "cell_type": "code",
      "metadata": {
        "id": "evEOb-FP96NF",
        "outputId": "a91eaace-7399-4761-d13b-66e978e6b9a9",
        "colab": {
          "base_uri": "https://localhost:8080/",
          "height": 70
        }
      },
      "source": [
        "# since the subjects have different numbers of images, \n",
        "# we need to balance how much each subject contributes to the cross-entropy loss\n",
        "class_weights = compute_class_weight(\"balanced\", np.unique(train_y), train_y)\n",
        "\n",
        "# train model, verbose set to 0 to supress output, wait a moment for training to complete\n",
        "logistic_regression.fit(train_features_x, train_y, validation_data=(test_features_x, test_y), class_weight=class_weights, epochs=75, batch_size=128, verbose=0)\n",
        "\n",
        "# evaluate model, get train/test accuracy\n",
        "train_eig_pred = np.argmax(logistic_regression.predict(train_features_x), axis=1)\n",
        "test_eig_pred = np.argmax(logistic_regression.predict(test_features_x), axis=1)\n",
        "print(\"\\nTraining accuracy using Eigenfaces and logistic regression model: {}\".format(accuracy_score(train_y, train_eig_pred)))\n",
        "print(\"Testing accuracy using Eigenfaces and logistic regression model: {}\".format(accuracy_score(test_y, test_eig_pred)))"
      ],
      "execution_count": null,
      "outputs": [
        {
          "output_type": "stream",
          "text": [
            "\n",
            "Training accuracy using Eigenfaces and logistic regression model: 0.8823529411764706\n",
            "Testing accuracy using Eigenfaces and logistic regression model: 0.6171617161716172\n"
          ],
          "name": "stdout"
        }
      ]
    },
    {
      "cell_type": "markdown",
      "metadata": {
        "id": "c66jYgBg96NI"
      },
      "source": [
        "# Your turn!\n",
        "\n",
        "### Sample CNN Model\n",
        "The Eigenfaces and logistic regression model doesn't perform that well on the unseen test set. Let's see how a simple CNN model compares.\n",
        "\n",
        "Rather than dealing with vectors, we will begin working with the grayscale images directly. \n",
        "\n",
        "Remember that a CNN learns convolution filters which extract the most useful features. Then, a small neural network at the end of the CNN architecture performs the multi-class classification. Therefore, the CNN will make things less complex for us as the CNN will learn to perform both feature extraction and classification! \n",
        "\n",
        "<b> Complete the section below</b>"
      ]
    },
    {
      "cell_type": "code",
      "metadata": {
        "id": "cnJ7wA8L96NJ",
        "outputId": "5ee606ce-f593-46c0-fef6-c984b1f98c86",
        "colab": {
          "base_uri": "https://localhost:8080/",
          "height": 567
        }
      },
      "source": [
        "# COMPLETE THE CODE ACCORDING TO THE COMMENTS\n",
        "# specify the input size of the images\n",
        "images = Input((train_x.shape[1], train_x.shape[2], 1,))\n",
        "# a convolution layer of 32 filters of size 9x9 to extract features (valid padding)\n",
        "x = Conv2D(32, kernel_size=(9,9),padding='same',strides=1, activation='relu')(images)\n",
        "# a maxpooling layer to down-sample features with pool size (2, 2)\n",
        "x = MaxPool2D(pool_size=(2, 2))(x)\n",
        "# another convolution layer of 64 filters of size 11x11 to extract features (valid padding)\n",
        "x = Conv2D(64, kernel_size=(11,11),padding='same',strides=1,activation='relu')(x)\n",
        "# a maxpooling layer to down-sample features with pool size (2, 2)\n",
        "x = MaxPool2D(pool_size=(2, 2))(x)\n",
        "# flatten extracted features to form feature vector\n",
        "x = Flatten()(x)\n",
        "# a drop out layer for regularization (25% probability)\n",
        "x = Dropout(0.25)(x)\n",
        "# first fully-connected layer to map the features to vectors of size 256\n",
        "x = Dense(units = 256, activation = 'relu')(x)\n",
        "# anoter drop out layer for regularization (25% probability)\n",
        "x = Dropout(0.25)(x)\n",
        "# a second fully-connected layer to map the features to a logit vector with one logit per subject\n",
        "x = Dense(num_subjects)(x)\n",
        "# use softmax activation to convert the logits to class probabilities for each subject\n",
        "predictions = Activation(\"softmax\")(x)\n",
        "\n",
        "# create the model using the layers we defined previously\n",
        "sample_cnn = Model(inputs=images, outputs=predictions)\n",
        "\n",
        "# compile the model so that it uses Adam for optimization during training with cross-entropy loss\n",
        "sample_cnn.compile(optimizer=Adam(), loss=\"sparse_categorical_crossentropy\", metrics=[\"acc\"])\n",
        "\n",
        "# print out a summary of the model achitecture\n",
        "print(sample_cnn.summary())"
      ],
      "execution_count": null,
      "outputs": [
        {
          "output_type": "stream",
          "text": [
            "Model: \"model_1\"\n",
            "_________________________________________________________________\n",
            "Layer (type)                 Output Shape              Param #   \n",
            "=================================================================\n",
            "input_2 (InputLayer)         [(None, 62, 47, 1)]       0         \n",
            "_________________________________________________________________\n",
            "conv2d_1 (Conv2D)            (None, 62, 47, 32)        2624      \n",
            "_________________________________________________________________\n",
            "max_pooling2d (MaxPooling2D) (None, 31, 23, 32)        0         \n",
            "_________________________________________________________________\n",
            "conv2d_2 (Conv2D)            (None, 31, 23, 64)        247872    \n",
            "_________________________________________________________________\n",
            "max_pooling2d_1 (MaxPooling2 (None, 15, 11, 64)        0         \n",
            "_________________________________________________________________\n",
            "flatten (Flatten)            (None, 10560)             0         \n",
            "_________________________________________________________________\n",
            "dropout (Dropout)            (None, 10560)             0         \n",
            "_________________________________________________________________\n",
            "dense_1 (Dense)              (None, 256)               2703616   \n",
            "_________________________________________________________________\n",
            "dropout_1 (Dropout)          (None, 256)               0         \n",
            "_________________________________________________________________\n",
            "dense_2 (Dense)              (None, 62)                15934     \n",
            "_________________________________________________________________\n",
            "activation_1 (Activation)    (None, 62)                0         \n",
            "=================================================================\n",
            "Total params: 2,970,046\n",
            "Trainable params: 2,970,046\n",
            "Non-trainable params: 0\n",
            "_________________________________________________________________\n",
            "None\n"
          ],
          "name": "stdout"
        }
      ]
    },
    {
      "cell_type": "code",
      "metadata": {
        "id": "UvqCsKKn96NO",
        "outputId": "9ab20573-c1d1-4c1a-a466-17a6c2411c73",
        "colab": {
          "base_uri": "https://localhost:8080/",
          "height": 692
        }
      },
      "source": [
        "# since the subjects have different numbers of images, \n",
        "# we need to balance how much each subject contributes to the cross-entropy loss\n",
        "class_weights = compute_class_weight(\"balanced\", np.unique(train_y), train_y)\n",
        "\n",
        "# train model\n",
        "sample_cnn.fit(train_x, train_y, validation_data=(test_x, test_y), \n",
        "               class_weight=class_weights, \n",
        "               epochs=15, batch_size=64, verbose=1)\n",
        "\n",
        "# evaluate model, get train/test accuracy\n",
        "train_pred = np.argmax(sample_cnn.predict(train_x), axis=1)\n",
        "test_pred = np.argmax(sample_cnn.predict(test_x), axis=1)\n",
        "print(\"\\nTraining accuracy using sample CNN model: {}\".format(accuracy_score(train_y, train_pred)))\n",
        "print(\"Testing accuracy using sample CNN model: {}\\n\".format(accuracy_score(test_y, test_pred)))\n",
        "\n",
        "print(\"The sample CNN model beat the Eigenfaces and logistic regression model! :)\")\n",
        "print(\"Training accuracy using Eigenfaces and logistic regression model: {}\".format(accuracy_score(train_y, train_eig_pred)))\n",
        "print(\"Testing accuracy using Eigenfaces and logistic regression model: {}\".format(accuracy_score(test_y, test_eig_pred)))"
      ],
      "execution_count": null,
      "outputs": [
        {
          "output_type": "stream",
          "text": [
            "Train on 2720 samples, validate on 303 samples\n",
            "Epoch 1/15\n",
            "2720/2720 [==============================] - 93s 34ms/sample - loss: 3.8152 - acc: 0.1397 - val_loss: 3.7093 - val_acc: 0.1485\n",
            "Epoch 2/15\n",
            "2720/2720 [==============================] - 92s 34ms/sample - loss: 3.7227 - acc: 0.1776 - val_loss: 3.6895 - val_acc: 0.1485\n",
            "Epoch 3/15\n",
            "2720/2720 [==============================] - 95s 35ms/sample - loss: 3.6762 - acc: 0.1772 - val_loss: 3.6313 - val_acc: 0.1485\n",
            "Epoch 4/15\n",
            "2720/2720 [==============================] - 92s 34ms/sample - loss: 3.5501 - acc: 0.1813 - val_loss: 3.4189 - val_acc: 0.1518\n",
            "Epoch 5/15\n",
            "2720/2720 [==============================] - 95s 35ms/sample - loss: 3.1660 - acc: 0.2415 - val_loss: 2.9289 - val_acc: 0.2772\n",
            "Epoch 6/15\n",
            "2720/2720 [==============================] - 93s 34ms/sample - loss: 2.6105 - acc: 0.3404 - val_loss: 2.3905 - val_acc: 0.4257\n",
            "Epoch 7/15\n",
            "2720/2720 [==============================] - 92s 34ms/sample - loss: 2.0955 - acc: 0.4566 - val_loss: 2.0164 - val_acc: 0.4884\n",
            "Epoch 8/15\n",
            "2720/2720 [==============================] - 92s 34ms/sample - loss: 1.7589 - acc: 0.5276 - val_loss: 1.7980 - val_acc: 0.5743\n",
            "Epoch 9/15\n",
            "2720/2720 [==============================] - 95s 35ms/sample - loss: 1.5249 - acc: 0.5890 - val_loss: 1.6352 - val_acc: 0.6271\n",
            "Epoch 10/15\n",
            "2720/2720 [==============================] - 93s 34ms/sample - loss: 1.2493 - acc: 0.6570 - val_loss: 1.5875 - val_acc: 0.6271\n",
            "Epoch 11/15\n",
            "2720/2720 [==============================] - 93s 34ms/sample - loss: 1.0600 - acc: 0.7048 - val_loss: 1.5575 - val_acc: 0.6238\n",
            "Epoch 12/15\n",
            "2720/2720 [==============================] - 93s 34ms/sample - loss: 0.9041 - acc: 0.7511 - val_loss: 1.5326 - val_acc: 0.6634\n",
            "Epoch 13/15\n",
            "2720/2720 [==============================] - 93s 34ms/sample - loss: 0.7783 - acc: 0.7772 - val_loss: 1.5505 - val_acc: 0.6469\n",
            "Epoch 14/15\n",
            "2720/2720 [==============================] - 92s 34ms/sample - loss: 0.6603 - acc: 0.7993 - val_loss: 1.4856 - val_acc: 0.6700\n",
            "Epoch 15/15\n",
            "2720/2720 [==============================] - 92s 34ms/sample - loss: 0.5460 - acc: 0.8426 - val_loss: 1.5558 - val_acc: 0.6733\n",
            "\n",
            "Training accuracy using sample CNN model: 0.9661764705882353\n",
            "Testing accuracy using sample CNN model: 0.6732673267326733\n",
            "\n",
            "The sample CNN model beat the Eigenfaces and logistic regression model! :)\n",
            "Training accuracy using Eigenfaces and logistic regression model: 0.8823529411764706\n",
            "Testing accuracy using Eigenfaces and logistic regression model: 0.6171617161716172\n"
          ],
          "name": "stdout"
        }
      ]
    },
    {
      "cell_type": "markdown",
      "metadata": {
        "id": "FMPP8tkr96NR"
      },
      "source": [
        "## More tasks\n",
        "\n",
        "2. Build three CNN models which surpass the traditional Eigenface method test accuracy. In each model use different architectures and optimizers. Points will be not be awarded if models architectures are not sufficiently different \n",
        "3. Build a fourth CNN model which achieves >70% test accuracy \n",
        "4. Display a correctly identified image and a training image corresponding to the correct training subject \n",
        "5. Display a incorrectly identified image and a training image corresponding to the correct training subject "
      ]
    },
    {
      "cell_type": "code",
      "metadata": {
        "id": "J4js6IMS_Kym",
        "outputId": "73cc143e-37bc-4a44-c8b2-2e72a1fa170e",
        "colab": {
          "base_uri": "https://localhost:8080/",
          "height": 461
        }
      },
      "source": [
        "model1 = Conv2D(32, (3, 3), activation = 'relu')(images)\n",
        "model1 = MaxPool2D(pool_size = (2, 2))(model1)\n",
        "model1 = Conv2D(64, (3, 3), activation = 'relu')(images)\n",
        "model1 = MaxPool2D(pool_size = (2, 2))(model1)\n",
        "model1 = Flatten()(model1)\n",
        "model1 = Dense(units = 128, activation = 'relu')(model1)\n",
        "model1 = Dense(units = 64, activation = 'relu')(model1)\n",
        "model1 = Dense(num_subjects)(model1)\n",
        "predictions = Activation(\"softmax\")(model1)\n",
        "\n",
        "model1 = Model(inputs=images, outputs=predictions)\n",
        "\n",
        "model1.compile(optimizer=Adam(), loss=\"sparse_categorical_crossentropy\", metrics=[\"acc\"])\n",
        "\n",
        "print(model1.summary())"
      ],
      "execution_count": null,
      "outputs": [
        {
          "output_type": "stream",
          "text": [
            "Model: \"model_12\"\n",
            "_________________________________________________________________\n",
            "Layer (type)                 Output Shape              Param #   \n",
            "=================================================================\n",
            "input_8 (InputLayer)         [(None, 62, 47, 1)]       0         \n",
            "_________________________________________________________________\n",
            "conv2d_20 (Conv2D)           (None, 60, 45, 64)        640       \n",
            "_________________________________________________________________\n",
            "max_pooling2d_19 (MaxPooling (None, 30, 22, 64)        0         \n",
            "_________________________________________________________________\n",
            "flatten_11 (Flatten)         (None, 42240)             0         \n",
            "_________________________________________________________________\n",
            "dense_26 (Dense)             (None, 128)               5406848   \n",
            "_________________________________________________________________\n",
            "dense_27 (Dense)             (None, 64)                8256      \n",
            "_________________________________________________________________\n",
            "dense_28 (Dense)             (None, 62)                4030      \n",
            "_________________________________________________________________\n",
            "activation_12 (Activation)   (None, 62)                0         \n",
            "=================================================================\n",
            "Total params: 5,419,774\n",
            "Trainable params: 5,419,774\n",
            "Non-trainable params: 0\n",
            "_________________________________________________________________\n",
            "None\n"
          ],
          "name": "stdout"
        }
      ]
    },
    {
      "cell_type": "code",
      "metadata": {
        "id": "IUSgXhbFAARl",
        "outputId": "6b584281-9cfe-4634-b1fb-4b9dbf0f5be4",
        "colab": {
          "base_uri": "https://localhost:8080/",
          "height": 123
        }
      },
      "source": [
        "# since the subjects have different numbers of images, \n",
        "# we need to balance how much each subject contributes to the cross-entropy loss\n",
        "class_weights = compute_class_weight(\"balanced\", np.unique(train_y), train_y)\n",
        "\n",
        "# train model\n",
        "model1.fit(train_x, train_y, validation_data=(test_x, test_y), \n",
        "               class_weight=class_weights, \n",
        "               epochs=30, batch_size=32, verbose=0)\n",
        "\n",
        "# evaluate model, get train/test accuracy\n",
        "train_pred = np.argmax(model1.predict(train_x), axis=1)\n",
        "test_pred = np.argmax(model1.predict(test_x), axis=1)\n",
        "print(\"\\nTraining accuracy using CNN model1: {}\".format(accuracy_score(train_y, train_pred)))\n",
        "print(\"Testing accuracy using CNN model1: {}\\n\".format(accuracy_score(test_y, test_pred)))\n",
        "\n",
        "print(\"Training accuracy using Eigenfaces and logistic regression model: {}\".format(accuracy_score(train_y, train_eig_pred)))\n",
        "print(\"Testing accuracy using Eigenfaces and logistic regression model: {}\".format(accuracy_score(test_y, test_eig_pred)))"
      ],
      "execution_count": null,
      "outputs": [
        {
          "output_type": "stream",
          "text": [
            "\n",
            "Training accuracy using CNN model1: 1.0\n",
            "Testing accuracy using CNN model1: 0.6270627062706271\n",
            "\n",
            "Training accuracy using Eigenfaces and logistic regression model: 0.8823529411764706\n",
            "Testing accuracy using Eigenfaces and logistic regression model: 0.6171617161716172\n"
          ],
          "name": "stdout"
        }
      ]
    },
    {
      "cell_type": "code",
      "metadata": {
        "id": "7TpBYaXUgr81",
        "outputId": "fd26f074-5d05-4852-9267-cf4dccca1aff",
        "colab": {
          "base_uri": "https://localhost:8080/",
          "height": 461
        }
      },
      "source": [
        "model2 = Conv2D(32, (3, 3), activation = 'relu')(images)\n",
        "model2 = MaxPool2D(pool_size = (2, 2))(model2)\n",
        "model2 = Conv2D(64, (5, 5), activation = 'relu')(images)\n",
        "model2 = MaxPool2D(pool_size = (2, 2))(model2)\n",
        "model2 = Flatten()(model2)\n",
        "model2 = Dense(units = 256, activation = 'relu')(model2)\n",
        "model2 = Dropout(0.50)(model2)\n",
        "model2 = Dense(num_subjects)(model2)\n",
        "predictions = Activation(\"softmax\")(model2)\n",
        "\n",
        "model2 = Model(inputs=images, outputs=predictions)\n",
        "\n",
        "model2.compile(optimizer=RMSprop(), loss=\"sparse_categorical_crossentropy\", metrics=[\"acc\"])\n",
        "\n",
        "print(model2.summary())"
      ],
      "execution_count": null,
      "outputs": [
        {
          "output_type": "stream",
          "text": [
            "Model: \"model_17\"\n",
            "_________________________________________________________________\n",
            "Layer (type)                 Output Shape              Param #   \n",
            "=================================================================\n",
            "input_8 (InputLayer)         [(None, 62, 47, 1)]       0         \n",
            "_________________________________________________________________\n",
            "conv2d_30 (Conv2D)           (None, 58, 43, 64)        1664      \n",
            "_________________________________________________________________\n",
            "max_pooling2d_29 (MaxPooling (None, 29, 21, 64)        0         \n",
            "_________________________________________________________________\n",
            "flatten_16 (Flatten)         (None, 38976)             0         \n",
            "_________________________________________________________________\n",
            "dense_37 (Dense)             (None, 256)               9978112   \n",
            "_________________________________________________________________\n",
            "dropout_5 (Dropout)          (None, 256)               0         \n",
            "_________________________________________________________________\n",
            "dense_38 (Dense)             (None, 62)                15934     \n",
            "_________________________________________________________________\n",
            "activation_17 (Activation)   (None, 62)                0         \n",
            "=================================================================\n",
            "Total params: 9,995,710\n",
            "Trainable params: 9,995,710\n",
            "Non-trainable params: 0\n",
            "_________________________________________________________________\n",
            "None\n"
          ],
          "name": "stdout"
        }
      ]
    },
    {
      "cell_type": "code",
      "metadata": {
        "id": "020VF6k5PSBH",
        "outputId": "41f1d865-8877-459c-8a39-815582e0fc17",
        "colab": {
          "base_uri": "https://localhost:8080/",
          "height": 674
        }
      },
      "source": [
        "# since the subjects have different numbers of images, \n",
        "# we need to balance how much each subject contributes to the cross-entropy loss\n",
        "class_weights = compute_class_weight(\"balanced\", np.unique(train_y), train_y)\n",
        "\n",
        "# train model\n",
        "model2.fit(train_x, train_y, validation_data=(test_x, test_y), \n",
        "               class_weight=class_weights, \n",
        "               epochs=15, batch_size=64, verbose=1)\n",
        "\n",
        "# evaluate model, get train/test accuracy\n",
        "train_pred = np.argmax(model2.predict(train_x), axis=1)\n",
        "test_pred = np.argmax(model2.predict(test_x), axis=1)\n",
        "print(\"\\nTraining accuracy using CNN model2: {}\".format(accuracy_score(train_y, train_pred)))\n",
        "print(\"Testing accuracy using CNN model2: {}\\n\".format(accuracy_score(test_y, test_pred)))\n",
        "\n",
        "print(\"Training accuracy using Eigenfaces and logistic regression model: {}\".format(accuracy_score(train_y, train_eig_pred)))\n",
        "print(\"Testing accuracy using Eigenfaces and logistic regression model: {}\".format(accuracy_score(test_y, test_eig_pred)))"
      ],
      "execution_count": null,
      "outputs": [
        {
          "output_type": "stream",
          "text": [
            "Train on 2720 samples, validate on 303 samples\n",
            "Epoch 1/15\n",
            "2720/2720 [==============================] - 14s 5ms/sample - loss: 4.3020 - acc: 0.1452 - val_loss: 3.8219 - val_acc: 0.1485\n",
            "Epoch 2/15\n",
            "2720/2720 [==============================] - 14s 5ms/sample - loss: 3.5809 - acc: 0.1908 - val_loss: 3.6512 - val_acc: 0.1980\n",
            "Epoch 3/15\n",
            "2720/2720 [==============================] - 14s 5ms/sample - loss: 3.2180 - acc: 0.2562 - val_loss: 2.9989 - val_acc: 0.2937\n",
            "Epoch 4/15\n",
            "2720/2720 [==============================] - 14s 5ms/sample - loss: 2.8487 - acc: 0.3169 - val_loss: 2.7718 - val_acc: 0.3036\n",
            "Epoch 5/15\n",
            "2720/2720 [==============================] - 14s 5ms/sample - loss: 2.5008 - acc: 0.3835 - val_loss: 2.4838 - val_acc: 0.4290\n",
            "Epoch 6/15\n",
            "2720/2720 [==============================] - 14s 5ms/sample - loss: 2.2307 - acc: 0.4426 - val_loss: 2.1995 - val_acc: 0.4818\n",
            "Epoch 7/15\n",
            "2720/2720 [==============================] - 14s 5ms/sample - loss: 1.9463 - acc: 0.5066 - val_loss: 2.0670 - val_acc: 0.4950\n",
            "Epoch 8/15\n",
            "2720/2720 [==============================] - 14s 5ms/sample - loss: 1.7141 - acc: 0.5592 - val_loss: 1.9806 - val_acc: 0.5182\n",
            "Epoch 9/15\n",
            "2720/2720 [==============================] - 14s 5ms/sample - loss: 1.5241 - acc: 0.6055 - val_loss: 1.9237 - val_acc: 0.5083\n",
            "Epoch 10/15\n",
            "2720/2720 [==============================] - 14s 5ms/sample - loss: 1.3457 - acc: 0.6438 - val_loss: 1.7668 - val_acc: 0.5875\n",
            "Epoch 11/15\n",
            "2720/2720 [==============================] - 14s 5ms/sample - loss: 1.1643 - acc: 0.6868 - val_loss: 1.6306 - val_acc: 0.6304\n",
            "Epoch 12/15\n",
            "2720/2720 [==============================] - 14s 5ms/sample - loss: 1.0636 - acc: 0.7085 - val_loss: 1.6336 - val_acc: 0.6205\n",
            "Epoch 13/15\n",
            "2720/2720 [==============================] - 14s 5ms/sample - loss: 0.9293 - acc: 0.7456 - val_loss: 1.6205 - val_acc: 0.6436\n",
            "Epoch 14/15\n",
            "2720/2720 [==============================] - 14s 5ms/sample - loss: 0.8532 - acc: 0.7570 - val_loss: 1.5345 - val_acc: 0.6370\n",
            "Epoch 15/15\n",
            "2720/2720 [==============================] - 16s 6ms/sample - loss: 0.7979 - acc: 0.7801 - val_loss: 1.5127 - val_acc: 0.6370\n",
            "\n",
            "Training accuracy using CNN model2: 0.9525735294117647\n",
            "Testing accuracy using CNN model2: 0.636963696369637\n",
            "\n",
            "Training accuracy using Eigenfaces and logistic regression model: 0.8823529411764706\n",
            "Testing accuracy using Eigenfaces and logistic regression model: 0.6171617161716172\n"
          ],
          "name": "stdout"
        }
      ]
    },
    {
      "cell_type": "code",
      "metadata": {
        "id": "xC65MUEjkKCo",
        "outputId": "86b85cda-3ce1-4bd1-ce8c-86a8aebec734",
        "colab": {
          "base_uri": "https://localhost:8080/",
          "height": 603
        }
      },
      "source": [
        "model3 = Conv2D(32, (3, 3), activation = 'relu')(images)\n",
        "model3 = MaxPool2D(pool_size = (2, 2))(model3)\n",
        "model3 = Conv2D(64, (3, 3), activation = 'relu')(images)\n",
        "model3 = MaxPool2D(pool_size = (2, 2))(model3)\n",
        "model3 = Flatten()(model3)\n",
        "model3 = Dense(units = 1024, activation = 'relu')(model3)\n",
        "model3 = Dropout(0.20)(model3)\n",
        "model3 = BatchNormalization(momentum=0.9)(model3)\n",
        "model3 = Dense(units = 512, activation = 'relu')(model3)\n",
        "model3 = Dropout(0.20)(model3)\n",
        "model3 = BatchNormalization(momentum=0.9)(model3)\n",
        "model3 = Dense(num_subjects)(model3)\n",
        "predictions = Activation(\"softmax\")(model3)\n",
        "\n",
        "model3 = Model(inputs=images, outputs=predictions)\n",
        "\n",
        "model3.compile(optimizer=RMSprop(), loss=\"sparse_categorical_crossentropy\", metrics=[\"acc\"])\n",
        "\n",
        "print(model3.summary())"
      ],
      "execution_count": null,
      "outputs": [
        {
          "output_type": "stream",
          "text": [
            "Model: \"model_3\"\n",
            "_________________________________________________________________\n",
            "Layer (type)                 Output Shape              Param #   \n",
            "=================================================================\n",
            "input_2 (InputLayer)         [(None, 62, 47, 1)]       0         \n",
            "_________________________________________________________________\n",
            "conv2d_6 (Conv2D)            (None, 60, 45, 64)        640       \n",
            "_________________________________________________________________\n",
            "max_pooling2d_5 (MaxPooling2 (None, 30, 22, 64)        0         \n",
            "_________________________________________________________________\n",
            "flatten_2 (Flatten)          (None, 42240)             0         \n",
            "_________________________________________________________________\n",
            "dense_6 (Dense)              (None, 1024)              43254784  \n",
            "_________________________________________________________________\n",
            "dropout_4 (Dropout)          (None, 1024)              0         \n",
            "_________________________________________________________________\n",
            "batch_normalization_2 (Batch (None, 1024)              4096      \n",
            "_________________________________________________________________\n",
            "dense_7 (Dense)              (None, 512)               524800    \n",
            "_________________________________________________________________\n",
            "dropout_5 (Dropout)          (None, 512)               0         \n",
            "_________________________________________________________________\n",
            "batch_normalization_3 (Batch (None, 512)               2048      \n",
            "_________________________________________________________________\n",
            "dense_8 (Dense)              (None, 62)                31806     \n",
            "_________________________________________________________________\n",
            "activation_3 (Activation)    (None, 62)                0         \n",
            "=================================================================\n",
            "Total params: 43,818,174\n",
            "Trainable params: 43,815,102\n",
            "Non-trainable params: 3,072\n",
            "_________________________________________________________________\n",
            "None\n"
          ],
          "name": "stdout"
        }
      ]
    },
    {
      "cell_type": "code",
      "metadata": {
        "id": "2SosHXzUk7-h",
        "outputId": "5b072793-ecbb-4b9e-82fd-ba8ec4d5ae63",
        "colab": {
          "base_uri": "https://localhost:8080/",
          "height": 674
        }
      },
      "source": [
        "# since the subjects have different numbers of images, \n",
        "# we need to balance how much each subject contributes to the cross-entropy loss\n",
        "class_weights = compute_class_weight(\"balanced\", np.unique(train_y), train_y)\n",
        "\n",
        "# train model\n",
        "model3.fit(train_x, train_y, validation_data=(test_x, test_y), \n",
        "               class_weight=class_weights, \n",
        "               epochs=15, batch_size=64, verbose=1)\n",
        "\n",
        "# evaluate model, get train/test accuracy\n",
        "train_pred = np.argmax(model3.predict(train_x), axis=1)\n",
        "test_pred = np.argmax(model3.predict(test_x), axis=1)\n",
        "print(\"\\nTraining accuracy using CNN model3: {}\".format(accuracy_score(train_y, train_pred)))\n",
        "print(\"Testing accuracy using CNN model3: {}\\n\".format(accuracy_score(test_y, test_pred)))\n",
        "\n",
        "print(\"Training accuracy using Eigenfaces and logistic regression model: {}\".format(accuracy_score(train_y, train_eig_pred)))\n",
        "print(\"Testing accuracy using Eigenfaces and logistic regression model: {}\".format(accuracy_score(test_y, test_eig_pred)))"
      ],
      "execution_count": null,
      "outputs": [
        {
          "output_type": "stream",
          "text": [
            "Train on 2720 samples, validate on 303 samples\n",
            "Epoch 1/15\n",
            "2720/2720 [==============================] - 36s 13ms/sample - loss: 3.9280 - acc: 0.1632 - val_loss: 3.9265 - val_acc: 0.0957\n",
            "Epoch 2/15\n",
            "2720/2720 [==============================] - 34s 13ms/sample - loss: 1.8789 - acc: 0.5441 - val_loss: 2.0495 - val_acc: 0.5281\n",
            "Epoch 3/15\n",
            "2720/2720 [==============================] - 34s 13ms/sample - loss: 0.9201 - acc: 0.7783 - val_loss: 1.7124 - val_acc: 0.6172\n",
            "Epoch 4/15\n",
            "2720/2720 [==============================] - 34s 13ms/sample - loss: 0.4291 - acc: 0.9007 - val_loss: 2.0029 - val_acc: 0.5578\n",
            "Epoch 5/15\n",
            "2720/2720 [==============================] - 36s 13ms/sample - loss: 0.2302 - acc: 0.9485 - val_loss: 2.2525 - val_acc: 0.5050\n",
            "Epoch 6/15\n",
            "2720/2720 [==============================] - 34s 13ms/sample - loss: 0.1511 - acc: 0.9684 - val_loss: 1.9058 - val_acc: 0.5809\n",
            "Epoch 7/15\n",
            "2720/2720 [==============================] - 34s 13ms/sample - loss: 0.0923 - acc: 0.9853 - val_loss: 1.8622 - val_acc: 0.5809\n",
            "Epoch 8/15\n",
            "2720/2720 [==============================] - 34s 13ms/sample - loss: 0.0833 - acc: 0.9827 - val_loss: 1.5738 - val_acc: 0.6568\n",
            "Epoch 9/15\n",
            "2720/2720 [==============================] - 35s 13ms/sample - loss: 0.0827 - acc: 0.9798 - val_loss: 1.7785 - val_acc: 0.6337\n",
            "Epoch 10/15\n",
            "2720/2720 [==============================] - 34s 12ms/sample - loss: 0.0496 - acc: 0.9897 - val_loss: 2.4951 - val_acc: 0.5083\n",
            "Epoch 11/15\n",
            "2720/2720 [==============================] - 34s 13ms/sample - loss: 0.0662 - acc: 0.9838 - val_loss: 1.7190 - val_acc: 0.6535\n",
            "Epoch 12/15\n",
            "2720/2720 [==============================] - 34s 13ms/sample - loss: 0.0488 - acc: 0.9875 - val_loss: 1.6555 - val_acc: 0.6502\n",
            "Epoch 13/15\n",
            "2720/2720 [==============================] - 34s 13ms/sample - loss: 0.0313 - acc: 0.9923 - val_loss: 1.8048 - val_acc: 0.6568\n",
            "Epoch 14/15\n",
            "2720/2720 [==============================] - 34s 13ms/sample - loss: 0.0347 - acc: 0.9919 - val_loss: 1.6717 - val_acc: 0.6634\n",
            "Epoch 15/15\n",
            "2720/2720 [==============================] - 34s 13ms/sample - loss: 0.0518 - acc: 0.9868 - val_loss: 1.7647 - val_acc: 0.6634\n",
            "\n",
            "Training accuracy using CNN model3: 0.9992647058823529\n",
            "Testing accuracy using CNN model3: 0.6633663366336634\n",
            "\n",
            "Training accuracy using Eigenfaces and logistic regression model: 0.8823529411764706\n",
            "Testing accuracy using Eigenfaces and logistic regression model: 0.6171617161716172\n"
          ],
          "name": "stdout"
        }
      ]
    },
    {
      "cell_type": "code",
      "metadata": {
        "id": "BvjysoGSnu92",
        "outputId": "88ad1a78-25ff-4371-e5e1-2a85d7ac0c2b",
        "colab": {
          "base_uri": "https://localhost:8080/",
          "height": 567
        }
      },
      "source": [
        "model4 = Conv2D(32, (3, 3), activation = 'relu')(images)\n",
        "model4 = MaxPool2D(pool_size = (2, 2))(model4)\n",
        "model4 = Conv2D(64, (3, 3), activation = 'relu')(images)\n",
        "model4 = MaxPool2D(pool_size = (2, 2))(model4)\n",
        "model4 = Conv2D(128, (3, 3), activation = 'relu')(images)\n",
        "model4 = MaxPool2D(pool_size = (2, 2))(model4)\n",
        "model4 = Flatten()(model4)\n",
        "model4 = Dense(units = 1024, activation = 'relu')(model4)\n",
        "model4 = Dropout(0.20)(model4)\n",
        "model4 = BatchNormalization(momentum=0.9)(model4)\n",
        "model4 = Dense(units = 512, activation = 'relu')(model4)\n",
        "model4 = Dropout(0.20)(model4)\n",
        "# model4 = BatchNormalization(momentum=0.9)(model4)\n",
        "model4 = Dense(num_subjects)(model4)\n",
        "predictions = Activation(\"softmax\")(model4)\n",
        "\n",
        "model4 = Model(inputs=images, outputs=predictions)\n",
        "\n",
        "model4.compile(optimizer=Adam(), loss=\"sparse_categorical_crossentropy\", metrics=[\"acc\"])\n",
        "\n",
        "print(model4.summary())"
      ],
      "execution_count": null,
      "outputs": [
        {
          "output_type": "stream",
          "text": [
            "Model: \"model_15\"\n",
            "_________________________________________________________________\n",
            "Layer (type)                 Output Shape              Param #   \n",
            "=================================================================\n",
            "input_2 (InputLayer)         [(None, 62, 47, 1)]       0         \n",
            "_________________________________________________________________\n",
            "conv2d_37 (Conv2D)           (None, 60, 45, 128)       1280      \n",
            "_________________________________________________________________\n",
            "max_pooling2d_36 (MaxPooling (None, 30, 22, 128)       0         \n",
            "_________________________________________________________________\n",
            "flatten_14 (Flatten)         (None, 84480)             0         \n",
            "_________________________________________________________________\n",
            "dense_42 (Dense)             (None, 1024)              86508544  \n",
            "_________________________________________________________________\n",
            "dropout_28 (Dropout)         (None, 1024)              0         \n",
            "_________________________________________________________________\n",
            "batch_normalization_18 (Batc (None, 1024)              4096      \n",
            "_________________________________________________________________\n",
            "dense_43 (Dense)             (None, 512)               524800    \n",
            "_________________________________________________________________\n",
            "dropout_29 (Dropout)         (None, 512)               0         \n",
            "_________________________________________________________________\n",
            "dense_44 (Dense)             (None, 62)                31806     \n",
            "_________________________________________________________________\n",
            "activation_15 (Activation)   (None, 62)                0         \n",
            "=================================================================\n",
            "Total params: 87,070,526\n",
            "Trainable params: 87,068,478\n",
            "Non-trainable params: 2,048\n",
            "_________________________________________________________________\n",
            "None\n"
          ],
          "name": "stdout"
        }
      ]
    },
    {
      "cell_type": "code",
      "metadata": {
        "id": "dGZCkTpnosMF",
        "outputId": "333a1723-d92a-4a98-8104-3b60795844df",
        "colab": {
          "base_uri": "https://localhost:8080/",
          "height": 496
        }
      },
      "source": [
        "# train model\n",
        "model4.fit(train_x, train_y, validation_data=(test_x, test_y), epochs=10, batch_size=64, verbose=1)\n",
        "\n",
        "# evaluate model, get train/test accuracy\n",
        "train_pred = np.argmax(model4.predict(train_x), axis=1)\n",
        "test_pred = np.argmax(model4.predict(test_x), axis=1)\n",
        "print(\"\\nTraining accuracy using CNN model4: {}\".format(accuracy_score(train_y, train_pred)))\n",
        "print(\"Testing accuracy using CNN model4: {}\\n\".format(accuracy_score(test_y, test_pred)))\n",
        "\n",
        "print(\"Training accuracy using Eigenfaces and logistic regression model: {}\".format(accuracy_score(train_y, train_eig_pred)))\n",
        "print(\"Testing accuracy using Eigenfaces and logistic regression model: {}\".format(accuracy_score(test_y, test_eig_pred)))"
      ],
      "execution_count": null,
      "outputs": [
        {
          "output_type": "stream",
          "text": [
            "Train on 2720 samples, validate on 303 samples\n",
            "Epoch 1/10\n",
            "2720/2720 [==============================] - 60s 22ms/sample - loss: 3.7184 - acc: 0.1658 - val_loss: 6.6953 - val_acc: 0.0165\n",
            "Epoch 2/10\n",
            "2720/2720 [==============================] - 58s 21ms/sample - loss: 2.3427 - acc: 0.4357 - val_loss: 2.3221 - val_acc: 0.5314\n",
            "Epoch 3/10\n",
            "2720/2720 [==============================] - 58s 21ms/sample - loss: 1.0363 - acc: 0.7529 - val_loss: 1.4563 - val_acc: 0.6172\n",
            "Epoch 4/10\n",
            "2720/2720 [==============================] - 58s 21ms/sample - loss: 0.3705 - acc: 0.9206 - val_loss: 1.3033 - val_acc: 0.6634\n",
            "Epoch 5/10\n",
            "2720/2720 [==============================] - 58s 21ms/sample - loss: 0.1450 - acc: 0.9713 - val_loss: 1.3580 - val_acc: 0.6898\n",
            "Epoch 6/10\n",
            "2720/2720 [==============================] - 58s 21ms/sample - loss: 0.0676 - acc: 0.9901 - val_loss: 1.3136 - val_acc: 0.6964\n",
            "Epoch 7/10\n",
            "2720/2720 [==============================] - 59s 22ms/sample - loss: 0.0273 - acc: 0.9982 - val_loss: 1.3382 - val_acc: 0.7195\n",
            "Epoch 8/10\n",
            "2720/2720 [==============================] - 58s 21ms/sample - loss: 0.0223 - acc: 0.9963 - val_loss: 1.3204 - val_acc: 0.7063\n",
            "Epoch 9/10\n",
            "2720/2720 [==============================] - 58s 21ms/sample - loss: 0.0134 - acc: 0.9993 - val_loss: 1.3989 - val_acc: 0.7162\n",
            "Epoch 10/10\n",
            "2720/2720 [==============================] - 58s 21ms/sample - loss: 0.0112 - acc: 0.9985 - val_loss: 1.4235 - val_acc: 0.7162\n",
            "\n",
            "Training accuracy using CNN model4: 1.0\n",
            "Testing accuracy using CNN model4: 0.7161716171617162\n",
            "\n",
            "Training accuracy using Eigenfaces and logistic regression model: 0.8823529411764706\n",
            "Testing accuracy using Eigenfaces and logistic regression model: 0.6171617161716172\n"
          ],
          "name": "stdout"
        }
      ]
    },
    {
      "cell_type": "markdown",
      "metadata": {
        "id": "RploB7sf96NS"
      },
      "source": [
        "### Rubric\n",
        "\n",
        "1. Complete the sample CNN as specified by the comments (2 pts.)\n",
        "2. Build three CNN models which surpass the traditional Eigenface method test accuracy. In each model use different architectures and optimizers. Points will be not be awarded if models architectures are not sufficiently different (3 pts.)\n",
        "3. Build a fourth CNN model which achieves >70% test accuracy (3 pts.)\n",
        "4. Display a correctly identified image and a training image corresponding to the correct training subject (1 pts.)\n",
        "5. Display a incorrectly identified image and a training image corresponding to the correct training subject (1 pts.)\n",
        "\n",
        "Feel free to use the code above to get started on your own models!"
      ]
    },
    {
      "cell_type": "code",
      "metadata": {
        "id": "xahsVSLaeZE0",
        "outputId": "ce9e585d-41f4-4d62-87c2-b7d9a1ea4877",
        "colab": {
          "base_uri": "https://localhost:8080/",
          "height": 298
        }
      },
      "source": [
        "# A correctly identified image\n",
        "n = 0\n",
        "image = np.expand_dims(test_x[n], axis=0)\n",
        "correct_pred = np.argmax(model4.predict(image))\n",
        "true_pred = test_y[n]\n",
        "print(f'Predicted Label: {correct_pred}, True True: {true_pred}')\n",
        "plt.figure()\n",
        "plt.title(f'Image of subject {true_pred}')\n",
        "plt.imshow(train_x[list(train_y).index(true_pred)][:, :, 0], cmap=\"gray\");"
      ],
      "execution_count": null,
      "outputs": [
        {
          "output_type": "stream",
          "text": [
            "Predicted Label: 37, True True: 37\n"
          ],
          "name": "stdout"
        },
        {
          "output_type": "display_data",
          "data": {
            "image/png": "[encoded data removed]",
            "text/plain": [
              "<Figure size 432x288 with 1 Axes>"
            ]
          },
          "metadata": {
            "tags": [],
            "needs_background": "light"
          }
        }
      ]
    },
    {
      "cell_type": "code",
      "metadata": {
        "id": "oyZw3HJi96NS",
        "outputId": "a5b08d45-237a-4e08-be42-2d31399ff405",
        "colab": {
          "base_uri": "https://localhost:8080/",
          "height": 298
        }
      },
      "source": [
        "# An incorrectly identified image\n",
        "n = 5\n",
        "image = np.expand_dims(test_x[n], axis=0)\n",
        "correct_pred = np.argmax(model4.predict(image))\n",
        "true_pred = test_y[n]\n",
        "print(f'Predicted Label: {correct_pred}, True Label: {true_pred}')\n",
        "plt.figure()\n",
        "plt.title(f'Image of subject {true_pred}')\n",
        "plt.imshow(train_x[list(train_y).index(true_pred)][:, :, 0], cmap=\"gray\");"
      ],
      "execution_count": null,
      "outputs": [
        {
          "output_type": "stream",
          "text": [
            "Predicted Label: 45, True Label: 29\n"
          ],
          "name": "stdout"
        },
        {
          "output_type": "display_data",
          "data": {
            "image/png": "[encoded data removed]",
            "text/plain": [
              "<Figure size 432x288 with 1 Axes>"
            ]
          },
          "metadata": {
            "tags": [],
            "needs_background": "light"
          }
        }
      ]
    }
  ]
}