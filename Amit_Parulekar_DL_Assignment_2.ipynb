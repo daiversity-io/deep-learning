{
 "cells": [
  {
   "cell_type": "code",
   "execution_count": 12,
   "metadata": {
    "colab": {},
    "colab_type": "code",
    "id": "-mtxHdedBFm5"
   },
   "outputs": [],
   "source": [
    "\"\"\"\n",
    "Complete the functions and the other sections below to build a complete model of a simple neural network (equivalent to Logistic Regression). \n",
    "The incomplete parts are marked and you need to fill them up to finish this assignment\n",
    "\n",
    "DATA: handwritten digits classified into two classes Even (0) and Odd (1)\n",
    "\"\"\"\n",
    "\n",
    "\n",
    "import numpy as np\n",
    "import matplotlib.pyplot as plt\n",
    "import scipy\n",
    "from PIL import Image\n",
    "from scipy import ndimage\n",
    "from sklearn import datasets\n",
    "\n",
    "\n",
    "##Loading the data\n",
    "digits = datasets.load_digits()\n",
    "images_and_labels = list(zip(digits.images, digits.target))\n",
    "\n",
    "train_set_x_orig = [] \n",
    "train_set_y = []\n",
    "test_set_x_orig = [] \n",
    "test_set_y = []\n",
    "classes = ['even','odd']"
   ]
  },
  {
   "cell_type": "code",
   "execution_count": 13,
   "metadata": {
    "colab": {
     "base_uri": "https://localhost:8080/",
     "height": 34
    },
    "colab_type": "code",
    "id": "DSx6t07CBKng",
    "outputId": "805678d1-0693-46a2-f3b3-e3f253b69a5b"
   },
   "outputs": [
    {
     "name": "stdout",
     "output_type": "stream",
     "text": [
      "(1597, 8, 8) (1, 1597) (200, 8, 8) (1, 200)\n"
     ]
    }
   ],
   "source": [
    "data_size = len(images_and_labels)\n",
    "#Setting the testset size\n",
    "test_set_size = 200\n",
    "\n",
    "\n",
    "##Splitting the data into training and test sets and assigning the labels: Even (0), Odd (1)\n",
    "\n",
    "for i in range(len(images_and_labels))[:-test_set_size]:\n",
    "    train_set_x_orig.append(images_and_labels[i][0])\n",
    "    if images_and_labels[i][1] %2 == 0: ##if even put 0 as the label\n",
    "        train_set_y.append(0)\n",
    "    else: ##if odd put 1 as the label\n",
    "        train_set_y.append(1)\n",
    "        \n",
    "for i in range(len(images_and_labels))[-test_set_size:]:\n",
    "    test_set_x_orig.append(images_and_labels[i][0])\n",
    "    if images_and_labels[i][1] %2 == 0: ##if even put 0 as the label\n",
    "        test_set_y.append(0)\n",
    "    else: ##if odd put 1 as the label\n",
    "        test_set_y.append(1)\n",
    "\n",
    "train_set_x_orig = np.array(train_set_x_orig)\n",
    "train_set_y = np.array(train_set_y).reshape(1,data_size-test_set_size)\n",
    "test_set_x_orig = np.array(test_set_x_orig)\n",
    "test_set_y = np.array(test_set_y).reshape(1,test_set_size)\n",
    "\n",
    "print(train_set_x_orig.shape, train_set_y.shape, test_set_x_orig.shape, test_set_y.shape)"
   ]
  },
  {
   "cell_type": "code",
   "execution_count": 14,
   "metadata": {
    "colab": {
     "base_uri": "https://localhost:8080/",
     "height": 282
    },
    "colab_type": "code",
    "id": "LbHcLuSaBY0p",
    "outputId": "aa71d50b-db78-40a3-82c2-8420bf045ab4"
   },
   "outputs": [
    {
     "name": "stdout",
     "output_type": "stream",
     "text": [
      "y = [1], it's a 'odd' number.\n"
     ]
    },
    {
     "data": {
      "image/png": "[encoded data removed]",
      "text/plain": [
       "<Figure size 432x288 with 1 Axes>"
      ]
     },
     "metadata": {
      "needs_background": "light"
     },
     "output_type": "display_data"
    }
   ],
   "source": [
    "## Display an example from the data\n",
    "index = 1\n",
    "plt.imshow(train_set_x_orig[index])\n",
    "print (\"y = \" + str(train_set_y[:, index]) + \", it's a '\" + classes[np.squeeze(train_set_y[:, index])] +  \"' number.\")\n",
    "\n",
    "m_train = train_set_y.shape[1]\n",
    "m_test = test_set_y.shape[1]\n",
    "num_px = train_set_x_orig.shape[2]"
   ]
  },
  {
   "cell_type": "code",
   "execution_count": 15,
   "metadata": {
    "colab": {
     "base_uri": "https://localhost:8080/",
     "height": 153
    },
    "colab_type": "code",
    "id": "G_GTLCt_Bizi",
    "outputId": "57cbab1a-a784-4fff-fca2-c4e61a2662ee"
   },
   "outputs": [
    {
     "name": "stdout",
     "output_type": "stream",
     "text": [
      "Number of training examples: m_train = 1597\n",
      "Number of testing examples: m_test = 200\n",
      "Height/Width of each image: num_px = 8\n",
      "Each image is of size: (8, 8)\n",
      "train_set_x shape: (1597, 8, 8)\n",
      "train_set_y shape: (1, 1597)\n",
      "test_set_x shape: (200, 8, 8)\n",
      "test_set_y shape: (1, 200)\n"
     ]
    }
   ],
   "source": [
    "##Description of the data\n",
    "print (\"Number of training examples: m_train = \" + str(m_train))\n",
    "print (\"Number of testing examples: m_test = \" + str(m_test))\n",
    "print (\"Height/Width of each image: num_px = \" + str(num_px))\n",
    "print (\"Each image is of size: (\" + str(num_px) + \", \" + str(num_px) + \")\")\n",
    "print (\"train_set_x shape: \" + str(train_set_x_orig.shape))\n",
    "print (\"train_set_y shape: \" + str(train_set_y.shape))\n",
    "print (\"test_set_x shape: \" + str(test_set_x_orig.shape))\n",
    "print (\"test_set_y shape: \" + str(test_set_y.shape))"
   ]
  },
  {
   "cell_type": "code",
   "execution_count": 16,
   "metadata": {
    "colab": {
     "base_uri": "https://localhost:8080/",
     "height": 85
    },
    "colab_type": "code",
    "id": "9vSS9w2tBo_F",
    "outputId": "ea0541b6-651d-4ead-d2d7-763f62bb3f92"
   },
   "outputs": [
    {
     "name": "stdout",
     "output_type": "stream",
     "text": [
      "train_set_x_flatten shape: (64, 1597)\n",
      "train_set_y shape: (1, 1597)\n",
      "test_set_x_flatten shape: (64, 200)\n",
      "test_set_y shape: (1, 200)\n"
     ]
    }
   ],
   "source": [
    "# Reshape the training and test examples from 2D matrix to a 1D vector. The input vector of a neural network is always 1D\n",
    "train_set_x_flatten = train_set_x_orig.reshape(m_train,(num_px*num_px)).T\n",
    "test_set_x_flatten = test_set_x_orig.reshape(m_test,(num_px*num_px)).T\n",
    "\n",
    "# Print the description after reshaping\n",
    "print (\"train_set_x_flatten shape: \" + str(train_set_x_flatten.shape))\n",
    "print (\"train_set_y shape: \" + str(train_set_y.shape))\n",
    "print (\"test_set_x_flatten shape: \" + str(test_set_x_flatten.shape))\n",
    "print (\"test_set_y shape: \" + str(test_set_y.shape))"
   ]
  },
  {
   "cell_type": "code",
   "execution_count": 17,
   "metadata": {
    "colab": {},
    "colab_type": "code",
    "id": "Dt6Pd70_BtHY"
   },
   "outputs": [],
   "source": [
    "# Standardize the pixel value\n",
    "train_set_x = train_set_x_flatten/255.\n",
    "test_set_x = test_set_x_flatten/255."
   ]
  },
  {
   "cell_type": "code",
   "execution_count": 18,
   "metadata": {
    "colab": {
     "base_uri": "https://localhost:8080/",
     "height": 1000
    },
    "colab_type": "code",
    "id": "nWnN_jS6ha-T",
    "outputId": "fcdd1a5d-28f2-4936-d209-0b397b23e628"
   },
   "outputs": [
    {
     "name": "stdout",
     "output_type": "stream",
     "text": [
      "Cost after iteration 0: 0.693147\n",
      "Cost after iteration 100: 0.664420\n",
      "Cost after iteration 200: 0.638784\n",
      "Cost after iteration 300: 0.615838\n",
      "Cost after iteration 400: 0.595245\n",
      "Cost after iteration 500: 0.576706\n",
      "Cost after iteration 600: 0.559960\n",
      "Cost after iteration 700: 0.544782\n",
      "Cost after iteration 800: 0.530975\n",
      "Cost after iteration 900: 0.518371\n",
      "Cost after iteration 1000: 0.506826\n",
      "Cost after iteration 1100: 0.496216\n",
      "Cost after iteration 1200: 0.486433\n",
      "Cost after iteration 1300: 0.477384\n",
      "Cost after iteration 1400: 0.468990\n",
      "Cost after iteration 1500: 0.461181\n",
      "Cost after iteration 1600: 0.453896\n",
      "Cost after iteration 1700: 0.447083\n",
      "Cost after iteration 1800: 0.440697\n",
      "Cost after iteration 1900: 0.434696\n",
      "Cost after iteration 2000: 0.429045\n",
      "Cost after iteration 2100: 0.423713\n",
      "Cost after iteration 2200: 0.418673\n",
      "Cost after iteration 2300: 0.413898\n",
      "Cost after iteration 2400: 0.409368\n",
      "Cost after iteration 2500: 0.405062\n",
      "Cost after iteration 2600: 0.400964\n",
      "Cost after iteration 2700: 0.397058\n",
      "Cost after iteration 2800: 0.393328\n",
      "Cost after iteration 2900: 0.389764\n",
      "Cost after iteration 3000: 0.386352\n",
      "Cost after iteration 3100: 0.383082\n",
      "Cost after iteration 3200: 0.379945\n",
      "Cost after iteration 3300: 0.376933\n",
      "Cost after iteration 3400: 0.374037\n",
      "Cost after iteration 3500: 0.371249\n",
      "Cost after iteration 3600: 0.368564\n",
      "Cost after iteration 3700: 0.365976\n",
      "Cost after iteration 3800: 0.363478\n",
      "Cost after iteration 3900: 0.361065\n",
      "Cost after iteration 4000: 0.358733\n",
      "Cost after iteration 4100: 0.356477\n",
      "Cost after iteration 4200: 0.354294\n",
      "Cost after iteration 4300: 0.352178\n",
      "Cost after iteration 4400: 0.350128\n",
      "Cost after iteration 4500: 0.348139\n",
      "Cost after iteration 4600: 0.346209\n",
      "Cost after iteration 4700: 0.344335\n",
      "Cost after iteration 4800: 0.342513\n",
      "Cost after iteration 4900: 0.340743\n",
      "Cost after iteration 5000: 0.339020\n",
      "Cost after iteration 5100: 0.337344\n",
      "Cost after iteration 5200: 0.335711\n",
      "Cost after iteration 5300: 0.334121\n",
      "Cost after iteration 5400: 0.332571\n",
      "Cost after iteration 5500: 0.331060\n",
      "Cost after iteration 5600: 0.329586\n",
      "Cost after iteration 5700: 0.328147\n",
      "Cost after iteration 5800: 0.326742\n",
      "Cost after iteration 5900: 0.325371\n",
      "Cost after iteration 6000: 0.324030\n",
      "Cost after iteration 6100: 0.322721\n",
      "Cost after iteration 6200: 0.321440\n",
      "Cost after iteration 6300: 0.320187\n",
      "Cost after iteration 6400: 0.318962\n",
      "Cost after iteration 6500: 0.317762\n",
      "Cost after iteration 6600: 0.316588\n",
      "Cost after iteration 6700: 0.315438\n",
      "Cost after iteration 6800: 0.314311\n",
      "Cost after iteration 6900: 0.313207\n",
      "Cost after iteration 7000: 0.312125\n",
      "Cost after iteration 7100: 0.311065\n",
      "Cost after iteration 7200: 0.310024\n",
      "Cost after iteration 7300: 0.309004\n",
      "Cost after iteration 7400: 0.308003\n",
      "Cost after iteration 7500: 0.307020\n",
      "Cost after iteration 7600: 0.306056\n",
      "Cost after iteration 7700: 0.305109\n",
      "Cost after iteration 7800: 0.304179\n",
      "Cost after iteration 7900: 0.303265\n",
      "Cost after iteration 8000: 0.302367\n",
      "Cost after iteration 8100: 0.301485\n",
      "Cost after iteration 8200: 0.300618\n",
      "Cost after iteration 8300: 0.299766\n",
      "Cost after iteration 8400: 0.298928\n",
      "Cost after iteration 8500: 0.298103\n",
      "Cost after iteration 8600: 0.297292\n",
      "Cost after iteration 8700: 0.296495\n",
      "Cost after iteration 8800: 0.295709\n",
      "Cost after iteration 8900: 0.294937\n",
      "Cost after iteration 9000: 0.294176\n",
      "Cost after iteration 9100: 0.293427\n",
      "Cost after iteration 9200: 0.292690\n",
      "Cost after iteration 9300: 0.291964\n",
      "Cost after iteration 9400: 0.291249\n",
      "Cost after iteration 9500: 0.290544\n",
      "Cost after iteration 9600: 0.289850\n",
      "Cost after iteration 9700: 0.289166\n",
      "Cost after iteration 9800: 0.288491\n",
      "Cost after iteration 9900: 0.287827\n",
      "Cost after iteration 10000: 0.287171\n",
      "Cost after iteration 10100: 0.286525\n",
      "Cost after iteration 10200: 0.285888\n",
      "Cost after iteration 10300: 0.285260\n",
      "Cost after iteration 10400: 0.284640\n",
      "Cost after iteration 10500: 0.284028\n",
      "Cost after iteration 10600: 0.283425\n",
      "Cost after iteration 10700: 0.282830\n",
      "Cost after iteration 10800: 0.282243\n",
      "Cost after iteration 10900: 0.281663\n",
      "Cost after iteration 11000: 0.281091\n",
      "Cost after iteration 11100: 0.280526\n",
      "Cost after iteration 11200: 0.279968\n",
      "Cost after iteration 11300: 0.279417\n",
      "Cost after iteration 11400: 0.278873\n",
      "Cost after iteration 11500: 0.278336\n",
      "Cost after iteration 11600: 0.277806\n",
      "Cost after iteration 11700: 0.277282\n",
      "Cost after iteration 11800: 0.276764\n",
      "Cost after iteration 11900: 0.276252\n",
      "Cost after iteration 12000: 0.275747\n",
      "Cost after iteration 12100: 0.275247\n",
      "Cost after iteration 12200: 0.274754\n",
      "Cost after iteration 12300: 0.274266\n",
      "Cost after iteration 12400: 0.273784\n",
      "Cost after iteration 12500: 0.273307\n",
      "Cost after iteration 12600: 0.272836\n",
      "Cost after iteration 12700: 0.272370\n",
      "Cost after iteration 12800: 0.271909\n",
      "Cost after iteration 12900: 0.271453\n",
      "Cost after iteration 13000: 0.271002\n",
      "Cost after iteration 13100: 0.270557\n",
      "Cost after iteration 13200: 0.270116\n",
      "Cost after iteration 13300: 0.269680\n",
      "Cost after iteration 13400: 0.269248\n",
      "Cost after iteration 13500: 0.268821\n",
      "Cost after iteration 13600: 0.268399\n",
      "Cost after iteration 13700: 0.267981\n",
      "Cost after iteration 13800: 0.267567\n",
      "Cost after iteration 13900: 0.267158\n",
      "Cost after iteration 14000: 0.266753\n",
      "Cost after iteration 14100: 0.266352\n",
      "Cost after iteration 14200: 0.265955\n",
      "Cost after iteration 14300: 0.265562\n",
      "Cost after iteration 14400: 0.265173\n",
      "Cost after iteration 14500: 0.264788\n",
      "Cost after iteration 14600: 0.264407\n",
      "Cost after iteration 14700: 0.264029\n",
      "Cost after iteration 14800: 0.263655\n",
      "Cost after iteration 14900: 0.263285\n",
      "Cost after iteration 15000: 0.262918\n",
      "Cost after iteration 15100: 0.262555\n",
      "Cost after iteration 15200: 0.262195\n",
      "Cost after iteration 15300: 0.261839\n",
      "Cost after iteration 15400: 0.261486\n",
      "Cost after iteration 15500: 0.261136\n",
      "Cost after iteration 15600: 0.260790\n",
      "Cost after iteration 15700: 0.260446\n",
      "Cost after iteration 15800: 0.260106\n",
      "Cost after iteration 15900: 0.259769\n",
      "Cost after iteration 16000: 0.259435\n",
      "Cost after iteration 16100: 0.259104\n",
      "Cost after iteration 16200: 0.258776\n",
      "Cost after iteration 16300: 0.258451\n",
      "Cost after iteration 16400: 0.258128\n",
      "Cost after iteration 16500: 0.257809\n",
      "Cost after iteration 16600: 0.257492\n",
      "Cost after iteration 16700: 0.257178\n",
      "Cost after iteration 16800: 0.256867\n",
      "Cost after iteration 16900: 0.256558\n",
      "Cost after iteration 17000: 0.256252\n",
      "Cost after iteration 17100: 0.255949\n",
      "Cost after iteration 17200: 0.255648\n",
      "Cost after iteration 17300: 0.255350\n",
      "Cost after iteration 17400: 0.255054\n",
      "Cost after iteration 17500: 0.254761\n",
      "Cost after iteration 17600: 0.254470\n",
      "Cost after iteration 17700: 0.254182\n",
      "Cost after iteration 17800: 0.253895\n",
      "Cost after iteration 17900: 0.253612\n",
      "Cost after iteration 18000: 0.253330\n",
      "Cost after iteration 18100: 0.253051\n",
      "Cost after iteration 18200: 0.252774\n",
      "Cost after iteration 18300: 0.252499\n",
      "Cost after iteration 18400: 0.252226\n",
      "Cost after iteration 18500: 0.251955\n",
      "Cost after iteration 18600: 0.251687\n",
      "Cost after iteration 18700: 0.251421\n",
      "Cost after iteration 18800: 0.251156\n",
      "Cost after iteration 18900: 0.250894\n",
      "Cost after iteration 19000: 0.250634\n",
      "Cost after iteration 19100: 0.250376\n",
      "Cost after iteration 19200: 0.250119\n",
      "Cost after iteration 19300: 0.249865\n",
      "Cost after iteration 19400: 0.249612\n",
      "Cost after iteration 19500: 0.249362\n",
      "Cost after iteration 19600: 0.249113\n",
      "Cost after iteration 19700: 0.248866\n",
      "Cost after iteration 19800: 0.248621\n",
      "Cost after iteration 19900: 0.248378\n",
      "train accuracy: 90.98309329993738 %\n",
      "test accuracy: 90.0 %\n"
     ]
    }
   ],
   "source": [
    "###COMPLETE THE FUNCTION\n",
    "def sigmoid(z):\n",
    "    \"\"\"\n",
    "    Compute the sigmoid of z\n",
    "    Arguments:\n",
    "    z -- A scalar or numpy array of any size.\n",
    "    Return:\n",
    "    s -- sigmoid(z)\n",
    "    \"\"\"\n",
    "    ## Put your code here\n",
    "    s = 1 / (1 + np.exp(-z))    \n",
    "    return s\n",
    "\n",
    "\n",
    "\n",
    "###COMPLETE THE FUNCTION\n",
    "def initialize_with_zeros(dim):\n",
    "    \"\"\"\n",
    "    This function creates a vector of zeros of shape (dim, 1) for w and initializes b to 0.\n",
    "    \n",
    "    Argument:\n",
    "    dim -- size of the w vector we want (or number of parameters in this case)\n",
    "    \n",
    "    Returns:\n",
    "    w -- initialized vector of shape (dim, 1)\n",
    "    b -- initialized scalar (corresponds to the bias)\n",
    "    \"\"\"\n",
    "    \n",
    "    ## Put your code here\n",
    "    w = np.zeros((dim, 1))\n",
    "    b = 0\n",
    "    \n",
    "    ## veryifying the shape of the w vector\n",
    "    assert(w.shape == (dim, 1))\n",
    "    assert(isinstance(b, float) or isinstance(b, int))\n",
    "    \n",
    "    return w, b\n",
    "\n",
    "\n",
    "###COMPLETE THE FUNCTION\n",
    "def propagate(w, b, X, Y):\n",
    "    \"\"\"\n",
    "    Implement the cost function and its gradient for the propagation explained above\n",
    "\n",
    "    Arguments:\n",
    "    w -- weights, a numpy array of size (num_px * num_px, 1)\n",
    "    b -- bias, a scalar\n",
    "    X -- data of size (num_px * num_px, number of examples)\n",
    "    Y -- true \"label\" vector (containing 0 if even and 1 if odd) of size (1, number of examples)\n",
    "\n",
    "    Return:\n",
    "    cost -- negative log-likelihood cost for logistic regression\n",
    "    dw -- gradient of the loss with respect to w, thus same shape as w\n",
    "    db -- gradient of the loss with respect to b, thus same shape as b\n",
    "    \n",
    "    \n",
    "    \"\"\"\n",
    "    \n",
    "    m = X.shape[1]\n",
    "    \n",
    "    # FORWARD PROPAGATION (FROM X TO COST)\n",
    "    A = sigmoid(np.dot(w.T, X) + b) # put the activation computation code here\n",
    "    cost = (- 1 / m) * np.sum((Y * np.log(A)) + (1 - Y)*np.log(1-A)) # put the cost computation code here\n",
    "\n",
    "    # BACKWARD PROPAGATION (TO FIND GRADIENTS)\n",
    "    \n",
    "    dw = 1 / m * (np.dot(X, (A - Y).T)) # put the code to compute dw\n",
    "    db =  1 / m * (np.sum(A - Y)) # put the code to compute db\n",
    "    \n",
    "    cost = np.squeeze(cost)\n",
    "    \n",
    "    grads = {\"dw\": dw,\n",
    "             \"db\": db}\n",
    "    \n",
    "    return grads, cost\n",
    "\n",
    "\n",
    "\n",
    "\n",
    "\n",
    "###COMPLETE THE FUNCTION\n",
    "def optimize(w, b, X, Y, num_iterations, learning_rate, print_cost = False):\n",
    "    \"\"\"\n",
    "    This function optimizes w and b by running a gradient descent algorithm\n",
    "    \n",
    "    Arguments:\n",
    "    w -- weights, a numpy array of size (num_px * num_px, 1)\n",
    "    b -- bias, a scalar\n",
    "    X -- data of shape (num_px * num_px, number of examples)\n",
    "    Y -- true \"label\" vector (containing 0 if even, 1 if odd), of shape (1, number of examples)\n",
    "    num_iterations -- number of iterations of the optimization loop\n",
    "    learning_rate -- learning rate of the gradient descent update rule\n",
    "    print_cost -- True to print the loss every 100 steps\n",
    "    \n",
    "    Returns:\n",
    "    params -- dictionary containing the weights w and bias b\n",
    "    grads -- dictionary containing the gradients of the weights and bias with respect to the cost function\n",
    "    costs -- list of all the costs computed during the optimization, this will be used to plot the learning curve.\n",
    "    \n",
    "    \n",
    "    \"\"\"\n",
    "    \n",
    "    costs = []\n",
    "    \n",
    "    for i in range(num_iterations):\n",
    "        \n",
    "                 \n",
    "        grads, cost = propagate(w, b, X, Y) # call the function that does this part\n",
    "        \n",
    "        \n",
    "        \n",
    "        dw = grads[\"dw\"]\n",
    "        db = grads[\"db\"]\n",
    "        \n",
    "        w = w - (dw * learning_rate) # update w using dw and learning rate\n",
    "        b = b - (db * learning_rate) # update b using db and learning rate\n",
    "        \n",
    "        # Recordint the cost after every 100 iterations\n",
    "        if i % 100 == 0:\n",
    "            costs.append(cost)\n",
    "        \n",
    "        # Print the cost every 100 training examples\n",
    "        if print_cost and i % 100 == 0:\n",
    "            print (\"Cost after iteration %i: %f\" %(i, cost))\n",
    "    \n",
    "    params = {\"w\": w,\n",
    "              \"b\": b}\n",
    "    \n",
    "    grads = {\"dw\": dw,\n",
    "             \"db\": db}\n",
    "    \n",
    "    return params, grads, costs\n",
    "\n",
    "\n",
    "\n",
    "\n",
    "###COMPLETE THE FUNCTION\n",
    "def predict(w, b, X):\n",
    "    '''\n",
    "    Predict whether the label is 0 or 1 using learned logistic regression parameters (w, b)\n",
    "    \n",
    "    Arguments:\n",
    "    w -- weights, a numpy array of size (num_px * num_px, 1) in this case (8 * 8, 1)\n",
    "    b -- bias, a scalar \n",
    "    X -- data of size (num_px * num_px, number of examples) in this case (8 * 8, number of examples)\n",
    "    \n",
    "    Returns:\n",
    "    Y_prediction -- a numpy array (vector) containing all predictions (0/1) for the examples in X\n",
    "    '''\n",
    "    \n",
    "    m = X.shape[1]\n",
    "    Y_prediction = np.zeros((1,m))\n",
    "    w = w.reshape(X.shape[0], 1)\n",
    "    \n",
    "    ## put the code to predict from input data [prediction refers to computing the 'a' variable or sigmoid of w.T*x+b, \n",
    "    ## where w,b is the learned parameters and x is the input vector of the image you are trying to predict]\n",
    "    A = sigmoid(np.dot(w.T, X) + b)\n",
    "\n",
    "    for i in range(A.shape[1]):\n",
    "        \n",
    "        # Convert probabilities A[0,i] to actual predictions p[0,i], i.e. if probability >=0.5 output 1, else 0\n",
    "        if A[0, i] > 0.5: ##complete this line\n",
    "            Y_prediction[0, i] = 1\n",
    "        else:\n",
    "            Y_prediction[0, i] = 0 \n",
    "        \n",
    "    assert(Y_prediction.shape == (1, m))\n",
    "    \n",
    "    return Y_prediction\n",
    "\n",
    "\n",
    "\n",
    "###COMPLETE THE FUNCTION\n",
    "def model(X_train, Y_train, X_test, Y_test, num_iterations = 2000, learning_rate = 0.005, print_cost = False):\n",
    "    \"\"\"\n",
    "    Builds the logistic regression model by calling the function you've implemented previously\n",
    "    \n",
    "    Arguments:\n",
    "    X_train -- training set represented by a numpy array of shape (num_px * num_px, m_train)\n",
    "    Y_train -- training labels represented by a numpy array (vector) of shape (1, m_train)\n",
    "    X_test -- test set represented by a numpy array of shape (num_px * num_px, m_test)\n",
    "    Y_test -- test labels represented by a numpy array (vector) of shape (1, m_test)\n",
    "    num_iterations -- hyperparameter representing the number of iterations to optimize the parameters\n",
    "    learning_rate -- hyperparameter representing the learning rate used in the update rule of optimize()\n",
    "    print_cost -- Set to true to print the cost every 100 iterations\n",
    "    \n",
    "    Returns:\n",
    "    d -- dictionary containing information about the model.\n",
    "    \"\"\"\n",
    "    \n",
    "    ### COMPLETE THE CODE BELOW ###\n",
    "    \n",
    "    # initialize parameters with zeros \n",
    "    w, b = w, b = initialize_with_zeros(X_train.shape[0]) # call the correct function from above\n",
    "\n",
    "    # Gradient descent \n",
    "    parameters, grads, costs = optimize(w, b, X_train, Y_train, num_iterations, learning_rate, print_cost) # call the correct function from above\n",
    "    \n",
    "    # Retrieve parameters w and b from dictionary \"parameters\" returned by the function above\n",
    "    w = parameters[\"w\"] # complete this line\n",
    "    b = parameters[\"b\"] # complete this line\n",
    "    \n",
    "    # Predict test/train set examples \n",
    "    Y_prediction_test = predict(w, b, X_test) # call the correct function from above\n",
    "    Y_prediction_train = predict(w, b, X_train) # call the correct function from above\n",
    "\n",
    "    \n",
    "\n",
    "    # Print train/test Errors\n",
    "    print(\"train accuracy: {} %\".format(100 - np.mean(np.abs(Y_prediction_train - Y_train)) * 100))\n",
    "    print(\"test accuracy: {} %\".format(100 - np.mean(np.abs(Y_prediction_test - Y_test)) * 100))\n",
    "\n",
    "    \n",
    "    d = {\"costs\": costs,\n",
    "         \"Y_prediction_test\": Y_prediction_test, \n",
    "         \"Y_prediction_train\" : Y_prediction_train, \n",
    "         \"w\" : w, \n",
    "         \"b\" : b,\n",
    "         \"learning_rate\" : learning_rate,\n",
    "         \"num_iterations\": num_iterations}\n",
    "    \n",
    "    return d\n",
    "\n",
    "## Calling the function to train the model. FEEL FREE TO MODIFY THE HYPERPARAMETERS (num_iterations AND learning_rate) to experiment with the accuracy\n",
    "d = model(train_set_x, train_set_y, test_set_x, test_set_y, num_iterations = 20000, learning_rate = 1, print_cost = True)"
   ]
  },
  {
   "cell_type": "code",
   "execution_count": 22,
   "metadata": {
    "colab": {
     "base_uri": "https://localhost:8080/",
     "height": 34
    },
    "colab_type": "code",
    "id": "7Ikerjb_HIY2",
    "outputId": "5cd5d5cb-2e9e-4a09-ba97-5ca69f757c29"
   },
   "outputs": [
    {
     "data": {
      "text/plain": [
       "1.0"
      ]
     },
     "execution_count": 22,
     "metadata": {},
     "output_type": "execute_result"
    }
   ],
   "source": [
    "index = 9\n",
    "# test_set_y[0,index]\n",
    "d['Y_prediction_test'][0,index]"
   ]
  },
  {
   "cell_type": "code",
   "execution_count": 23,
   "metadata": {
    "colab": {
     "base_uri": "https://localhost:8080/",
     "height": 282
    },
    "colab_type": "code",
    "id": "aVO-zGujCOEf",
    "outputId": "88d1f110-b941-45f8-c4ac-18a23899307b"
   },
   "outputs": [
    {
     "name": "stdout",
     "output_type": "stream",
     "text": [
      "y = 1, you predicted that it is a \"odd\" number.\n"
     ]
    },
    {
     "data": {
      "image/png": "[encoded data removed]",
      "text/plain": [
       "<Figure size 432x288 with 1 Axes>"
      ]
     },
     "metadata": {
      "needs_background": "light"
     },
     "output_type": "display_data"
    }
   ],
   "source": [
    "## Using the model you built to predict the digit of an image\n",
    "index = 9 ## put a number between 0 and test_set_size to see the prediction of that image\n",
    "plt.imshow(test_set_x[:,index].reshape((num_px, num_px)))\n",
    "print (\"y = \" + str(test_set_y[0,index]) + \", you predicted that it is a \\\"\" + classes[int(d['Y_prediction_test'][0,index])] +  \"\\\" number.\")"
   ]
  },
  {
   "cell_type": "code",
   "execution_count": 24,
   "metadata": {
    "colab": {
     "base_uri": "https://localhost:8080/",
     "height": 295
    },
    "colab_type": "code",
    "id": "KMzCaU0wLKxQ",
    "outputId": "cd3e65d1-c71f-402b-dfaf-c506229f530b"
   },
   "outputs": [
    {
     "data": {
      "image/png": "[encoded data removed]",
      "text/plain": [
       "<Figure size 432x288 with 1 Axes>"
      ]
     },
     "metadata": {
      "needs_background": "light"
     },
     "output_type": "display_data"
    }
   ],
   "source": [
    "## View how the cost varied with iterations\n",
    "costs = np.squeeze(d['costs'])\n",
    "plt.plot(costs)\n",
    "plt.ylabel('cost')\n",
    "plt.xlabel('iterations (per hundreds)')\n",
    "plt.title(\"Learning rate =\" + str(d[\"learning_rate\"]))\n",
    "plt.show()"
   ]
  }
 ],
 "metadata": {
  "colab": {
   "collapsed_sections": [],
   "name": "Amit_Parulekar_DL Assignment 2.ipynb",
   "provenance": []
  },
  "kernelspec": {
   "display_name": "Python 3",
   "language": "python",
   "name": "python3"
  },
  "language_info": {
   "codemirror_mode": {
    "name": "ipython",
    "version": 3
   },
   "file_extension": ".py",
   "mimetype": "text/x-python",
   "name": "python",
   "nbconvert_exporter": "python",
   "pygments_lexer": "ipython3",
   "version": "3.7.3"
  }
 },
 "nbformat": 4,
 "nbformat_minor": 1
}
